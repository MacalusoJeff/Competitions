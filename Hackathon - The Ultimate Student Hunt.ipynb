{
 "cells": [
  {
   "cell_type": "markdown",
   "metadata": {},
   "source": [
    "# Hackathon - The Ultimate Student Hunt\n",
    "\n",
    "Analytics Vidhya hosted a student-only [hackathon](https://datahack.analyticsvidhya.com/contest/the-ultimate-student-hunt/#activity_id) over predicting the number of visitors to parks given a set amount of variables.  This was my first data competition, and proved to be a huge learning experience.\n",
    "\n",
    "Here's a brief overview of the data from the contest rules listed on the website:\n",
    "\n",
    "- **ID**: Unique ID\n",
    "- **Park_ID**: Unique ID for Parks\n",
    "- **Date**: Calendar Date\n",
    "- **Direction_Of_Wind**: Direction of winds in degrees\n",
    "- **Average_Breeze_Speed**: Daily average Breeze speed\n",
    "- **Max_Breeze_Speed**: Daily maximum Breeze speed\n",
    "- **Min_Breeze_Speed**: Daily minimum Breeze speed\n",
    "- **Var1**: A continuous feature\n",
    "- **Average_Atmospheric_Pressure**: Daily average atmospheric pressure\n",
    "- **Max_Atmospheric_Pressure**: Daily maximum atmospheric pressure\n",
    "- **Min_Atmospheric_Pressure**: Daily minimum atmospheric pressure\n",
    "- **Min_Ambient_Pollution**: Daily minimum Ambient pollution\n",
    "- **Max_Ambient_Pollution**: Daily maximum Ambient pollution\n",
    "- **Average_Moisture_In_Park**: Daily average moisture\n",
    "- **Max_Moisture_In_Park**: Daily maximum moisture\n",
    "- **Min_Moisture_In_Park**: Daily minimum moisture\n",
    "- **Location_Type**: Location Type (1/2/3/4)\n",
    "- **Footfall**: The target variable, daily Footfall"
   ]
  },
  {
   "cell_type": "markdown",
   "metadata": {},
   "source": [
    "## Summary\n",
    "\n",
    "This problem involved predicting the number of visitors (footfall) to parks on a given day with given conditions, which ultimately makes it a time series problem.  Specifically, it provided ten years as a training set, and five years for the test set.  This notebook is an annotated version of my final submission which ranked 13th on the leaderboard.  On a side note, the hackathon was only open for nine days, so there is of course a lot of room for improvement in this notebook. \n",
    "\n",
    "My process for this hackathon was as follows:\n",
    "1. **Initial Exploration**: All data projects should begin with an initial exploration to understand the data itself.  I initially used the [pandas profiling](https://github.com/JosPolfliet/pandas-profiling) package, but excluded it from my final submission since it generates a lengthy report.  I left both a quick df.describe() and df.head() to showcase summary statistics and an example of the data.\n",
    "2. **Outliers**: I created boxplots to look for outliers visually.  This can be done mathematically when you are more familiar with the data (using methods such as interquartile ranges), but the distributions of the variables produced a significant amount of data points that would've been considered outliers with this methodology.\n",
    "3. **Missing Values**: I first sorted the dataframe by date and park ID, then used the [msno package](https://github.com/ResidentMario/missingno) to visually examine missing values.  After seeing fairly regular trends of missing values, I plotted histograms of the missing values by park IDs to see if I could fill them by linearly interpolating.  After seeing that certain park IDs were completely missing some values, I built random forest models to impute them.  This is a brute-force method that is CPU intensive, but was a trade-off for the limited time frame. \n",
    "4. **Feature Engineering**: This was almost non-existant in this competition due to the anonymity of the data.  I used daily and weekly averages of the individual variables in both the end model and missing value imputation models.\n",
    "5. **Model Building**: I initially started by creating three models using random forests, gradient boosted trees, and AdaBoost.  The gradient boosted trees model outperformed the other two, so I stuck with that and scrapped the other two.\n",
    "6. **Hyperparameter Tuning**: This was my first time using gradient boosted trees, so I took a trial-and-error approach by adjusting various parameters and running them through cross validation to see how differently they performed.  I found that just adjusting the number of trees and max depth obtained the best results in this situation.\n",
    "7. **Validation**: I used both a holdout cross-validation and k-folds (with 10 folds) to check for overfitting.  The hackathon also had a \"solution checker\" for your predicted values (specifically for the first two years of the test set - the final score of the competition was on the full five years of the test set, so it is very important to not overfit) that provided a score, which I used in combination with the cross validation results.\n",
    "\n",
    "Here is the annotated code for my final submission:"
   ]
  },
  {
   "cell_type": "code",
   "execution_count": 1,
   "metadata": {
    "collapsed": false
   },
   "outputs": [],
   "source": [
    "import numpy as np\n",
    "import pandas as pd\n",
    "import matplotlib.pyplot as plt\n",
    "import seaborn as sns\n",
    "\n",
    "from sklearn.ensemble import RandomForestRegressor\n",
    "from sklearn.ensemble import GradientBoostingRegressor\n",
    "from sklearn.cross_validation import cross_val_score, train_test_split, KFold\n",
    "from sklearn.preprocessing import Imputer\n",
    "\n",
    "# For exploratory data analysis\n",
    "import missingno as msno  # Visualizes missing values\n",
    "\n",
    "%matplotlib inline"
   ]
  },
  {
   "cell_type": "code",
   "execution_count": 2,
   "metadata": {
    "collapsed": false
   },
   "outputs": [],
   "source": [
    "df = pd.read_csv('crime.csv')  # Training set - ignore the name\n",
    "\n",
    "df_test = pd.read_csv('Test_pyI9Owa.csv')  # Testing set"
   ]
  },
  {
   "cell_type": "markdown",
   "metadata": {},
   "source": [
    "## Exploratory Data Analysis"
   ]
  },
  {
   "cell_type": "code",
   "execution_count": 3,
   "metadata": {
    "collapsed": false,
    "scrolled": true
   },
   "outputs": [
    {
     "data": {
      "text/html": [
       "<div>\n",
       "<table border=\"1\" class=\"dataframe\">\n",
       "  <thead>\n",
       "    <tr style=\"text-align: right;\">\n",
       "      <th></th>\n",
       "      <th>ID</th>\n",
       "      <th>Park_ID</th>\n",
       "      <th>Direction_Of_Wind</th>\n",
       "      <th>Average_Breeze_Speed</th>\n",
       "      <th>Max_Breeze_Speed</th>\n",
       "      <th>Min_Breeze_Speed</th>\n",
       "      <th>Var1</th>\n",
       "      <th>Average_Atmospheric_Pressure</th>\n",
       "      <th>Max_Atmospheric_Pressure</th>\n",
       "      <th>Min_Atmospheric_Pressure</th>\n",
       "      <th>Min_Ambient_Pollution</th>\n",
       "      <th>Max_Ambient_Pollution</th>\n",
       "      <th>Average_Moisture_In_Park</th>\n",
       "      <th>Max_Moisture_In_Park</th>\n",
       "      <th>Min_Moisture_In_Park</th>\n",
       "      <th>Location_Type</th>\n",
       "      <th>Footfall</th>\n",
       "    </tr>\n",
       "  </thead>\n",
       "  <tbody>\n",
       "    <tr>\n",
       "      <th>count</th>\n",
       "      <td>1.145390e+05</td>\n",
       "      <td>114539.000000</td>\n",
       "      <td>110608.000000</td>\n",
       "      <td>110608.000000</td>\n",
       "      <td>110603.000000</td>\n",
       "      <td>110605.000000</td>\n",
       "      <td>106257.000000</td>\n",
       "      <td>74344.000000</td>\n",
       "      <td>74344.000000</td>\n",
       "      <td>74344.000000</td>\n",
       "      <td>82894.000000</td>\n",
       "      <td>82894.000000</td>\n",
       "      <td>114499.000000</td>\n",
       "      <td>114499.000000</td>\n",
       "      <td>114499.000000</td>\n",
       "      <td>114539.000000</td>\n",
       "      <td>114539.000000</td>\n",
       "    </tr>\n",
       "    <tr>\n",
       "      <th>mean</th>\n",
       "      <td>3.517595e+06</td>\n",
       "      <td>25.582596</td>\n",
       "      <td>179.587146</td>\n",
       "      <td>34.255340</td>\n",
       "      <td>51.704297</td>\n",
       "      <td>17.282553</td>\n",
       "      <td>18.802545</td>\n",
       "      <td>8331.545949</td>\n",
       "      <td>8356.053468</td>\n",
       "      <td>8305.692510</td>\n",
       "      <td>162.806138</td>\n",
       "      <td>306.555698</td>\n",
       "      <td>248.008970</td>\n",
       "      <td>283.917082</td>\n",
       "      <td>202.355331</td>\n",
       "      <td>2.630720</td>\n",
       "      <td>1204.217192</td>\n",
       "    </tr>\n",
       "    <tr>\n",
       "      <th>std</th>\n",
       "      <td>1.189083e+05</td>\n",
       "      <td>8.090592</td>\n",
       "      <td>85.362934</td>\n",
       "      <td>17.440065</td>\n",
       "      <td>22.068301</td>\n",
       "      <td>14.421844</td>\n",
       "      <td>38.269851</td>\n",
       "      <td>80.943971</td>\n",
       "      <td>76.032983</td>\n",
       "      <td>87.172258</td>\n",
       "      <td>90.869627</td>\n",
       "      <td>38.188020</td>\n",
       "      <td>28.898084</td>\n",
       "      <td>15.637930</td>\n",
       "      <td>46.365728</td>\n",
       "      <td>0.967435</td>\n",
       "      <td>248.385651</td>\n",
       "    </tr>\n",
       "    <tr>\n",
       "      <th>min</th>\n",
       "      <td>3.311712e+06</td>\n",
       "      <td>12.000000</td>\n",
       "      <td>1.000000</td>\n",
       "      <td>3.040000</td>\n",
       "      <td>7.600000</td>\n",
       "      <td>0.000000</td>\n",
       "      <td>0.000000</td>\n",
       "      <td>7982.000000</td>\n",
       "      <td>8037.000000</td>\n",
       "      <td>7890.000000</td>\n",
       "      <td>4.000000</td>\n",
       "      <td>8.000000</td>\n",
       "      <td>102.000000</td>\n",
       "      <td>141.000000</td>\n",
       "      <td>48.000000</td>\n",
       "      <td>1.000000</td>\n",
       "      <td>310.000000</td>\n",
       "    </tr>\n",
       "    <tr>\n",
       "      <th>25%</th>\n",
       "      <td>3.414820e+06</td>\n",
       "      <td>18.000000</td>\n",
       "      <td>111.000000</td>\n",
       "      <td>22.040000</td>\n",
       "      <td>38.000000</td>\n",
       "      <td>7.600000</td>\n",
       "      <td>0.000000</td>\n",
       "      <td>8283.000000</td>\n",
       "      <td>8311.000000</td>\n",
       "      <td>8252.000000</td>\n",
       "      <td>80.000000</td>\n",
       "      <td>288.000000</td>\n",
       "      <td>231.000000</td>\n",
       "      <td>279.000000</td>\n",
       "      <td>171.000000</td>\n",
       "      <td>2.000000</td>\n",
       "      <td>1026.000000</td>\n",
       "    </tr>\n",
       "    <tr>\n",
       "      <th>50%</th>\n",
       "      <td>3.517039e+06</td>\n",
       "      <td>26.000000</td>\n",
       "      <td>196.000000</td>\n",
       "      <td>30.400000</td>\n",
       "      <td>45.600000</td>\n",
       "      <td>15.200000</td>\n",
       "      <td>0.830000</td>\n",
       "      <td>8335.000000</td>\n",
       "      <td>8358.000000</td>\n",
       "      <td>8311.000000</td>\n",
       "      <td>180.000000</td>\n",
       "      <td>316.000000</td>\n",
       "      <td>252.000000</td>\n",
       "      <td>288.000000</td>\n",
       "      <td>207.000000</td>\n",
       "      <td>3.000000</td>\n",
       "      <td>1216.000000</td>\n",
       "    </tr>\n",
       "    <tr>\n",
       "      <th>75%</th>\n",
       "      <td>3.619624e+06</td>\n",
       "      <td>33.000000</td>\n",
       "      <td>239.000000</td>\n",
       "      <td>42.560000</td>\n",
       "      <td>60.800000</td>\n",
       "      <td>22.800000</td>\n",
       "      <td>21.580000</td>\n",
       "      <td>8382.000000</td>\n",
       "      <td>8406.000000</td>\n",
       "      <td>8362.000000</td>\n",
       "      <td>244.000000</td>\n",
       "      <td>336.000000</td>\n",
       "      <td>270.000000</td>\n",
       "      <td>294.000000</td>\n",
       "      <td>237.000000</td>\n",
       "      <td>3.000000</td>\n",
       "      <td>1402.000000</td>\n",
       "    </tr>\n",
       "    <tr>\n",
       "      <th>max</th>\n",
       "      <td>3.725639e+06</td>\n",
       "      <td>39.000000</td>\n",
       "      <td>360.000000</td>\n",
       "      <td>154.280000</td>\n",
       "      <td>212.800000</td>\n",
       "      <td>129.200000</td>\n",
       "      <td>1181.090000</td>\n",
       "      <td>8588.000000</td>\n",
       "      <td>8601.000000</td>\n",
       "      <td>8571.000000</td>\n",
       "      <td>348.000000</td>\n",
       "      <td>356.000000</td>\n",
       "      <td>300.000000</td>\n",
       "      <td>300.000000</td>\n",
       "      <td>300.000000</td>\n",
       "      <td>4.000000</td>\n",
       "      <td>1925.000000</td>\n",
       "    </tr>\n",
       "  </tbody>\n",
       "</table>\n",
       "</div>"
      ],
      "text/plain": [
       "                 ID        Park_ID  Direction_Of_Wind  Average_Breeze_Speed  \\\n",
       "count  1.145390e+05  114539.000000      110608.000000         110608.000000   \n",
       "mean   3.517595e+06      25.582596         179.587146             34.255340   \n",
       "std    1.189083e+05       8.090592          85.362934             17.440065   \n",
       "min    3.311712e+06      12.000000           1.000000              3.040000   \n",
       "25%    3.414820e+06      18.000000         111.000000             22.040000   \n",
       "50%    3.517039e+06      26.000000         196.000000             30.400000   \n",
       "75%    3.619624e+06      33.000000         239.000000             42.560000   \n",
       "max    3.725639e+06      39.000000         360.000000            154.280000   \n",
       "\n",
       "       Max_Breeze_Speed  Min_Breeze_Speed           Var1  \\\n",
       "count     110603.000000     110605.000000  106257.000000   \n",
       "mean          51.704297         17.282553      18.802545   \n",
       "std           22.068301         14.421844      38.269851   \n",
       "min            7.600000          0.000000       0.000000   \n",
       "25%           38.000000          7.600000       0.000000   \n",
       "50%           45.600000         15.200000       0.830000   \n",
       "75%           60.800000         22.800000      21.580000   \n",
       "max          212.800000        129.200000    1181.090000   \n",
       "\n",
       "       Average_Atmospheric_Pressure  Max_Atmospheric_Pressure  \\\n",
       "count                  74344.000000              74344.000000   \n",
       "mean                    8331.545949               8356.053468   \n",
       "std                       80.943971                 76.032983   \n",
       "min                     7982.000000               8037.000000   \n",
       "25%                     8283.000000               8311.000000   \n",
       "50%                     8335.000000               8358.000000   \n",
       "75%                     8382.000000               8406.000000   \n",
       "max                     8588.000000               8601.000000   \n",
       "\n",
       "       Min_Atmospheric_Pressure  Min_Ambient_Pollution  Max_Ambient_Pollution  \\\n",
       "count              74344.000000           82894.000000           82894.000000   \n",
       "mean                8305.692510             162.806138             306.555698   \n",
       "std                   87.172258              90.869627              38.188020   \n",
       "min                 7890.000000               4.000000               8.000000   \n",
       "25%                 8252.000000              80.000000             288.000000   \n",
       "50%                 8311.000000             180.000000             316.000000   \n",
       "75%                 8362.000000             244.000000             336.000000   \n",
       "max                 8571.000000             348.000000             356.000000   \n",
       "\n",
       "       Average_Moisture_In_Park  Max_Moisture_In_Park  Min_Moisture_In_Park  \\\n",
       "count             114499.000000         114499.000000         114499.000000   \n",
       "mean                 248.008970            283.917082            202.355331   \n",
       "std                   28.898084             15.637930             46.365728   \n",
       "min                  102.000000            141.000000             48.000000   \n",
       "25%                  231.000000            279.000000            171.000000   \n",
       "50%                  252.000000            288.000000            207.000000   \n",
       "75%                  270.000000            294.000000            237.000000   \n",
       "max                  300.000000            300.000000            300.000000   \n",
       "\n",
       "       Location_Type       Footfall  \n",
       "count  114539.000000  114539.000000  \n",
       "mean        2.630720    1204.217192  \n",
       "std         0.967435     248.385651  \n",
       "min         1.000000     310.000000  \n",
       "25%         2.000000    1026.000000  \n",
       "50%         3.000000    1216.000000  \n",
       "75%         3.000000    1402.000000  \n",
       "max         4.000000    1925.000000  "
      ]
     },
     "execution_count": 3,
     "metadata": {},
     "output_type": "execute_result"
    }
   ],
   "source": [
    "df.describe()"
   ]
  },
  {
   "cell_type": "code",
   "execution_count": 4,
   "metadata": {
    "collapsed": false
   },
   "outputs": [
    {
     "data": {
      "text/html": [
       "<div>\n",
       "<table border=\"1\" class=\"dataframe\">\n",
       "  <thead>\n",
       "    <tr style=\"text-align: right;\">\n",
       "      <th></th>\n",
       "      <th>ID</th>\n",
       "      <th>Park_ID</th>\n",
       "      <th>Date</th>\n",
       "      <th>Direction_Of_Wind</th>\n",
       "      <th>Average_Breeze_Speed</th>\n",
       "      <th>Max_Breeze_Speed</th>\n",
       "      <th>Min_Breeze_Speed</th>\n",
       "      <th>Var1</th>\n",
       "      <th>Average_Atmospheric_Pressure</th>\n",
       "      <th>Max_Atmospheric_Pressure</th>\n",
       "      <th>Min_Atmospheric_Pressure</th>\n",
       "      <th>Min_Ambient_Pollution</th>\n",
       "      <th>Max_Ambient_Pollution</th>\n",
       "      <th>Average_Moisture_In_Park</th>\n",
       "      <th>Max_Moisture_In_Park</th>\n",
       "      <th>Min_Moisture_In_Park</th>\n",
       "      <th>Location_Type</th>\n",
       "      <th>Footfall</th>\n",
       "    </tr>\n",
       "  </thead>\n",
       "  <tbody>\n",
       "    <tr>\n",
       "      <th>0</th>\n",
       "      <td>3311712</td>\n",
       "      <td>12</td>\n",
       "      <td>01-09-1990</td>\n",
       "      <td>194.0</td>\n",
       "      <td>37.24</td>\n",
       "      <td>60.8</td>\n",
       "      <td>15.2</td>\n",
       "      <td>92.1300</td>\n",
       "      <td>8225.0</td>\n",
       "      <td>8259.0</td>\n",
       "      <td>8211.0</td>\n",
       "      <td>92.0</td>\n",
       "      <td>304.0</td>\n",
       "      <td>255.0</td>\n",
       "      <td>288.0</td>\n",
       "      <td>222.0</td>\n",
       "      <td>3</td>\n",
       "      <td>1406</td>\n",
       "    </tr>\n",
       "    <tr>\n",
       "      <th>1</th>\n",
       "      <td>3311812</td>\n",
       "      <td>12</td>\n",
       "      <td>02-09-1990</td>\n",
       "      <td>285.0</td>\n",
       "      <td>32.68</td>\n",
       "      <td>60.8</td>\n",
       "      <td>7.6</td>\n",
       "      <td>14.1100</td>\n",
       "      <td>8232.0</td>\n",
       "      <td>8280.0</td>\n",
       "      <td>8205.0</td>\n",
       "      <td>172.0</td>\n",
       "      <td>332.0</td>\n",
       "      <td>252.0</td>\n",
       "      <td>297.0</td>\n",
       "      <td>204.0</td>\n",
       "      <td>3</td>\n",
       "      <td>1409</td>\n",
       "    </tr>\n",
       "    <tr>\n",
       "      <th>2</th>\n",
       "      <td>3311912</td>\n",
       "      <td>12</td>\n",
       "      <td>03-09-1990</td>\n",
       "      <td>319.0</td>\n",
       "      <td>43.32</td>\n",
       "      <td>60.8</td>\n",
       "      <td>15.2</td>\n",
       "      <td>35.6900</td>\n",
       "      <td>8321.0</td>\n",
       "      <td>8355.0</td>\n",
       "      <td>8283.0</td>\n",
       "      <td>236.0</td>\n",
       "      <td>292.0</td>\n",
       "      <td>219.0</td>\n",
       "      <td>279.0</td>\n",
       "      <td>165.0</td>\n",
       "      <td>3</td>\n",
       "      <td>1386</td>\n",
       "    </tr>\n",
       "    <tr>\n",
       "      <th>3</th>\n",
       "      <td>3312012</td>\n",
       "      <td>12</td>\n",
       "      <td>04-09-1990</td>\n",
       "      <td>297.0</td>\n",
       "      <td>25.84</td>\n",
       "      <td>38.0</td>\n",
       "      <td>7.6</td>\n",
       "      <td>0.0249</td>\n",
       "      <td>8379.0</td>\n",
       "      <td>8396.0</td>\n",
       "      <td>8358.0</td>\n",
       "      <td>272.0</td>\n",
       "      <td>324.0</td>\n",
       "      <td>225.0</td>\n",
       "      <td>261.0</td>\n",
       "      <td>192.0</td>\n",
       "      <td>3</td>\n",
       "      <td>1365</td>\n",
       "    </tr>\n",
       "    <tr>\n",
       "      <th>4</th>\n",
       "      <td>3312112</td>\n",
       "      <td>12</td>\n",
       "      <td>05-09-1990</td>\n",
       "      <td>207.0</td>\n",
       "      <td>28.88</td>\n",
       "      <td>45.6</td>\n",
       "      <td>7.6</td>\n",
       "      <td>0.8300</td>\n",
       "      <td>8372.0</td>\n",
       "      <td>8393.0</td>\n",
       "      <td>8335.0</td>\n",
       "      <td>236.0</td>\n",
       "      <td>332.0</td>\n",
       "      <td>234.0</td>\n",
       "      <td>273.0</td>\n",
       "      <td>183.0</td>\n",
       "      <td>3</td>\n",
       "      <td>1413</td>\n",
       "    </tr>\n",
       "  </tbody>\n",
       "</table>\n",
       "</div>"
      ],
      "text/plain": [
       "        ID  Park_ID        Date  Direction_Of_Wind  Average_Breeze_Speed  \\\n",
       "0  3311712       12  01-09-1990              194.0                 37.24   \n",
       "1  3311812       12  02-09-1990              285.0                 32.68   \n",
       "2  3311912       12  03-09-1990              319.0                 43.32   \n",
       "3  3312012       12  04-09-1990              297.0                 25.84   \n",
       "4  3312112       12  05-09-1990              207.0                 28.88   \n",
       "\n",
       "   Max_Breeze_Speed  Min_Breeze_Speed     Var1  Average_Atmospheric_Pressure  \\\n",
       "0              60.8              15.2  92.1300                        8225.0   \n",
       "1              60.8               7.6  14.1100                        8232.0   \n",
       "2              60.8              15.2  35.6900                        8321.0   \n",
       "3              38.0               7.6   0.0249                        8379.0   \n",
       "4              45.6               7.6   0.8300                        8372.0   \n",
       "\n",
       "   Max_Atmospheric_Pressure  Min_Atmospheric_Pressure  Min_Ambient_Pollution  \\\n",
       "0                    8259.0                    8211.0                   92.0   \n",
       "1                    8280.0                    8205.0                  172.0   \n",
       "2                    8355.0                    8283.0                  236.0   \n",
       "3                    8396.0                    8358.0                  272.0   \n",
       "4                    8393.0                    8335.0                  236.0   \n",
       "\n",
       "   Max_Ambient_Pollution  Average_Moisture_In_Park  Max_Moisture_In_Park  \\\n",
       "0                  304.0                     255.0                 288.0   \n",
       "1                  332.0                     252.0                 297.0   \n",
       "2                  292.0                     219.0                 279.0   \n",
       "3                  324.0                     225.0                 261.0   \n",
       "4                  332.0                     234.0                 273.0   \n",
       "\n",
       "   Min_Moisture_In_Park  Location_Type  Footfall  \n",
       "0                 222.0              3      1406  \n",
       "1                 204.0              3      1409  \n",
       "2                 165.0              3      1386  \n",
       "3                 192.0              3      1365  \n",
       "4                 183.0              3      1413  "
      ]
     },
     "execution_count": 4,
     "metadata": {},
     "output_type": "execute_result"
    }
   ],
   "source": [
    "df.head()"
   ]
  },
  {
   "cell_type": "markdown",
   "metadata": {},
   "source": [
    "### Outliers\n",
    "\n",
    "We'll do our outlier detection visually with box plots.  Rather than determining outliers mathematically (such as using the interquartile range), we'll simply look for any points that aren't contiguous."
   ]
  },
  {
   "cell_type": "code",
   "execution_count": 5,
   "metadata": {
    "collapsed": false
   },
   "outputs": [
    {
     "data": {
      "text/plain": [
       "<matplotlib.axes._subplots.AxesSubplot at 0x1774dfe6630>"
      ]
     },
     "execution_count": 5,
     "metadata": {},
     "output_type": "execute_result"
    },
    {
     "data": {
      "image/png": "[encoded data removed]",
      "text/plain": [
       "<matplotlib.figure.Figure at 0x1774dbc18d0>"
      ]
     },
     "metadata": {},
     "output_type": "display_data"
    }
   ],
   "source": [
    "df_box = df.drop(['ID', 'Park_ID', 'Average_Atmospheric_Pressure', 'Max_Atmospheric_Pressure'\n",
    "                  , 'Min_Atmospheric_Pressure', 'Footfall', 'Date'], axis = 1)\n",
    "plt.figure(figsize = (20,10))\n",
    "sns.boxplot(data=df_box)"
   ]
  },
  {
   "cell_type": "markdown",
   "metadata": {},
   "source": [
    "Var1 seems to potentially have outliers, but since it is undefined, it is difficult to determine if these are anomalies or noisy/incorrect data.  We'll leave them for now."
   ]
  },
  {
   "cell_type": "code",
   "execution_count": 6,
   "metadata": {
    "collapsed": false,
    "scrolled": false
   },
   "outputs": [
    {
     "data": {
      "text/plain": [
       "<matplotlib.axes._subplots.AxesSubplot at 0x1774f62a518>"
      ]
     },
     "execution_count": 6,
     "metadata": {},
     "output_type": "execute_result"
    },
    {
     "data": {
      "image/png": "[encoded data removed]",
      "text/plain": [
       "<matplotlib.figure.Figure at 0x1774e98d400>"
      ]
     },
     "metadata": {},
     "output_type": "display_data"
    }
   ],
   "source": [
    "df_box = df[['Average_Atmospheric_Pressure', 'Max_Atmospheric_Pressure'\n",
    "                  , 'Min_Atmospheric_Pressure']]\n",
    "plt.figure(figsize = (20,10))\n",
    "sns.boxplot(data=df_box)"
   ]
  },
  {
   "cell_type": "markdown",
   "metadata": {},
   "source": [
    "Max atmospheric pressure (and by result, average atmospheric pressure) have a few non-contiguous values, but they don't seem egregious enough to deal with for the time being."
   ]
  },
  {
   "cell_type": "code",
   "execution_count": 7,
   "metadata": {
    "collapsed": false
   },
   "outputs": [],
   "source": [
    "# Converting date field to datetime and extracting date components\n",
    "df['Date'] = pd.to_datetime(df['Date'])\n",
    "\n",
    "df['Year'] = pd.DatetimeIndex(df['Date']).year\n",
    "df['Month'] = pd.DatetimeIndex(df['Date']).month\n",
    "df['Day'] = pd.DatetimeIndex(df['Date']).day\n",
    "df['Week'] = pd.DatetimeIndex(df['Date']).week\n",
    "df['WeekDay'] = pd.DatetimeIndex(df['Date']).dayofweek\n",
    "\n",
    "\n",
    "# Repeating for the test set\n",
    "df_test['Date'] = pd.to_datetime(df_test['Date'])\n",
    "\n",
    "df_test['Year'] = pd.DatetimeIndex(df_test['Date']).year\n",
    "df_test['Month'] = pd.DatetimeIndex(df_test['Date']).month\n",
    "df_test['Day'] = pd.DatetimeIndex(df_test['Date']).day\n",
    "df_test['Week'] = pd.DatetimeIndex(df_test['Date']).week\n",
    "df_test['WeekDay'] = pd.DatetimeIndex(df_test['Date']).dayofweek\n",
    "\n",
    "\n",
    "# Lastly, combining to use for building models to predict missing predictors \n",
    "df_full = df.append(df_test)"
   ]
  },
  {
   "cell_type": "markdown",
   "metadata": {},
   "source": [
    "### Missing Values\n",
    "\n",
    "Since this is ultimately a time series problem, we'll begin with sorting the values.  Then, I'm going to use a [useful package](https://github.com/ResidentMario/missingno) for visualizing missing values."
   ]
  },
  {
   "cell_type": "code",
   "execution_count": 8,
   "metadata": {
    "collapsed": false
   },
   "outputs": [],
   "source": [
    "# Sorting by date and park\n",
    "df = df.sort_values(['Date', 'Park_ID'], ascending=[1, 1])\n",
    "df_full = df_full.sort_values(['Date', 'Park_ID'], ascending=[1, 1])"
   ]
  },
  {
   "cell_type": "code",
   "execution_count": 9,
   "metadata": {
    "collapsed": false
   },
   "outputs": [
    {
     "data": {
      "image/png": "[encoded data removed]",
      "text/plain": [
       "<matplotlib.figure.Figure at 0x1774f64d278>"
      ]
     },
     "metadata": {},
     "output_type": "display_data"
    }
   ],
   "source": [
    "# Visualizing missing values\n",
    "msno.matrix(df_full)"
   ]
  },
  {
   "cell_type": "code",
   "execution_count": 10,
   "metadata": {
    "collapsed": false
   },
   "outputs": [
    {
     "data": {
      "text/plain": [
       "<matplotlib.axes._subplots.AxesSubplot at 0x1774f091550>"
      ]
     },
     "execution_count": 10,
     "metadata": {},
     "output_type": "execute_result"
    },
    {
     "data": {
      "image/png": "[encoded data removed]",
      "text/plain": [
       "<matplotlib.figure.Figure at 0x1774f0043c8>"
      ]
     },
     "metadata": {},
     "output_type": "display_data"
    }
   ],
   "source": [
    "# Checking which Park IDs missing values occur in\n",
    "plt.subplot(221)\n",
    "df_full[df_full['Direction_Of_Wind'].isnull() == True]['Park_ID'].hist()\n",
    "plt.subplot(222)\n",
    "df_full[df_full['Average_Breeze_Speed'].isnull() == True]['Park_ID'].hist()\n",
    "plt.subplot(223)\n",
    "df_full[df_full['Max_Breeze_Speed'].isnull() == True]['Park_ID'].hist()\n",
    "plt.subplot(224)\n",
    "df_full[df_full['Min_Breeze_Speed'].isnull() == True]['Park_ID'].hist()"
   ]
  },
  {
   "cell_type": "code",
   "execution_count": 11,
   "metadata": {
    "collapsed": false
   },
   "outputs": [
    {
     "data": {
      "text/plain": [
       "<matplotlib.text.Text at 0x1774f6d1470>"
      ]
     },
     "execution_count": 11,
     "metadata": {},
     "output_type": "execute_result"
    },
    {
     "data": {
      "image/png": "[encoded data removed]",
      "text/plain": [
       "<matplotlib.figure.Figure at 0x1774f00fb00>"
      ]
     },
     "metadata": {},
     "output_type": "display_data"
    }
   ],
   "source": [
    "df_full[df_full['Var1'].isnull() == True]['Park_ID'].hist()\n",
    "plt.title('Var1 Missing Park IDs')"
   ]
  },
  {
   "cell_type": "code",
   "execution_count": 12,
   "metadata": {
    "collapsed": false
   },
   "outputs": [
    {
     "data": {
      "text/plain": [
       "<matplotlib.axes._subplots.AxesSubplot at 0x1774f78fb70>"
      ]
     },
     "execution_count": 12,
     "metadata": {},
     "output_type": "execute_result"
    },
    {
     "data": {
      "image/png": "[encoded data removed]",
      "text/plain": [
       "<matplotlib.figure.Figure at 0x1774f0a8f28>"
      ]
     },
     "metadata": {},
     "output_type": "display_data"
    }
   ],
   "source": [
    "plt.subplot(221)\n",
    "df_full[df_full['Average_Atmospheric_Pressure'].isnull() == True]['Park_ID'].hist()\n",
    "plt.subplot(222)\n",
    "df_full[df_full['Max_Atmospheric_Pressure'].isnull() == True]['Park_ID'].hist()\n",
    "plt.subplot(223)\n",
    "df_full[df_full['Min_Atmospheric_Pressure'].isnull() == True]['Park_ID'].hist()"
   ]
  },
  {
   "cell_type": "code",
   "execution_count": 13,
   "metadata": {
    "collapsed": false
   },
   "outputs": [
    {
     "data": {
      "text/plain": [
       "<matplotlib.axes._subplots.AxesSubplot at 0x1774e0245c0>"
      ]
     },
     "execution_count": 13,
     "metadata": {},
     "output_type": "execute_result"
    },
    {
     "data": {
      "image/png": "[encoded data removed]",
      "text/plain": [
       "<matplotlib.figure.Figure at 0x1774f6c4630>"
      ]
     },
     "metadata": {},
     "output_type": "display_data"
    }
   ],
   "source": [
    "plt.subplot(221)\n",
    "df_full[df_full['Max_Ambient_Pollution'].isnull() == True]['Park_ID'].hist()\n",
    "plt.subplot(222)\n",
    "df_full[df_full['Min_Ambient_Pollution'].isnull() == True]['Park_ID'].hist()"
   ]
  },
  {
   "cell_type": "markdown",
   "metadata": {},
   "source": [
    "We can see here that most missing values are re-occurring in the same parks.  This means we can't interpolate our missing values, and filling with the mean/median/mode is to over-generalized, so we should build models to predict our missing values.\n",
    "\n",
    "Msno has a heatmap that shows the co-occurrance of missing values, which will be helpful in determining how to construct our models."
   ]
  },
  {
   "cell_type": "code",
   "execution_count": 14,
   "metadata": {
    "collapsed": false
   },
   "outputs": [
    {
     "data": {
      "image/png": "[encoded data removed]",
      "text/plain": [
       "<matplotlib.figure.Figure at 0x1774f6c8080>"
      ]
     },
     "metadata": {},
     "output_type": "display_data"
    }
   ],
   "source": [
    "# Co-occurrence of missing values\n",
    "msno.heatmap(df)"
   ]
  },
  {
   "cell_type": "markdown",
   "metadata": {},
   "source": [
    "## Feature Engineering"
   ]
  },
  {
   "cell_type": "markdown",
   "metadata": {},
   "source": [
    "#### Daily & Weekly Averages\n",
    "Before building models to predict the missing values, we'll begin with calculating daily and weekly averages across all parks to assist wth our predictions.\n",
    "\n",
    "There is a lot of repetition here due to re-running the same code for both the training and testing set."
   ]
  },
  {
   "cell_type": "markdown",
   "metadata": {},
   "source": [
    "*Training Set*"
   ]
  },
  {
   "cell_type": "code",
   "execution_count": 15,
   "metadata": {
    "collapsed": false
   },
   "outputs": [],
   "source": [
    "# Gathering the daily averages of predictors\n",
    "\n",
    "# Wind\n",
    "avg_daily_breeze = df['Average_Breeze_Speed'].groupby(df['Date']).mean().to_frame().reset_index()  # Group by day\n",
    "avg_daily_breeze.columns = ['Date', 'Avg_Daily_Breeze']  # Renaming the columns for the join\n",
    "df = df.merge(avg_daily_breeze, how = 'left')  # Joining onto the original dataframe\n",
    "\n",
    "max_daily_breeze = df['Max_Breeze_Speed'].groupby(df['Date']).mean().to_frame().reset_index()\n",
    "max_daily_breeze.columns = ['Date', 'Max_Daily_Breeze']\n",
    "df = df.merge(max_daily_breeze, how = 'left')\n",
    "\n",
    "min_daily_breeze = df['Min_Breeze_Speed'].groupby(df['Date']).mean().to_frame().reset_index()\n",
    "min_daily_breeze.columns = ['Date', 'Min_Daily_Breeze']\n",
    "df = df.merge(min_daily_breeze, how = 'left')\n",
    "\n",
    "\n",
    "# Var1\n",
    "var1_daily = df['Var1'].groupby(df['Date']).mean().to_frame().reset_index()\n",
    "var1_daily.columns = ['Date', 'Var1_Daily']\n",
    "df = df.merge(var1_daily, how = 'left')\n",
    "\n",
    "\n",
    "# Atmosphere & Pollution\n",
    "avg_daily_atmo = df['Average_Atmospheric_Pressure'].groupby(df['Date']).mean().to_frame().reset_index()\n",
    "avg_daily_atmo.columns = ['Date', 'Avg_Daily_Atmosphere']\n",
    "df = df.merge(avg_daily_atmo, how = 'left')\n",
    "\n",
    "max_daily_atmo = df['Max_Atmospheric_Pressure'].groupby(df['Date']).mean().to_frame().reset_index()\n",
    "max_daily_atmo.columns = ['Date', 'Max_Daily_Atmosphere']\n",
    "df = df.merge(max_daily_atmo, how = 'left')\n",
    "\n",
    "min_daily_atmo = df['Min_Atmospheric_Pressure'].groupby(df['Date']).mean().to_frame().reset_index()\n",
    "min_daily_atmo.columns = ['Date', 'Min_Daily_Atmosphere']\n",
    "df = df.merge(min_daily_atmo, how = 'left')\n",
    "\n",
    "max_daily_pollution = df['Max_Ambient_Pollution'].groupby(df['Date']).mean().to_frame().reset_index()\n",
    "max_daily_pollution.columns = ['Date', 'Max_Daily_Pollution']\n",
    "df = df.merge(max_daily_pollution, how = 'left')\n",
    "\n",
    "min_daily_pollution = df['Min_Ambient_Pollution'].groupby(df['Date']).mean().to_frame().reset_index()\n",
    "min_daily_pollution.columns = ['Date', 'Min_Daily_Pollution']\n",
    "df = df.merge(min_daily_pollution, how = 'left')\n",
    "\n",
    "\n",
    "# Moisture\n",
    "avg_daily_moisture = df['Average_Moisture_In_Park'].groupby(df['Date']).mean().to_frame().reset_index()\n",
    "avg_daily_moisture.columns = ['Date', 'Avg_Daily_moisture']\n",
    "df = df.merge(avg_daily_moisture, how = 'left')\n",
    "\n",
    "max_daily_moisture = df['Max_Moisture_In_Park'].groupby(df['Date']).mean().to_frame().reset_index()\n",
    "max_daily_moisture.columns = ['Date', 'Max_Daily_moisture']\n",
    "df = df.merge(max_daily_moisture, how = 'left')\n",
    "\n",
    "min_daily_moisture = df['Min_Moisture_In_Park'].groupby(df['Date']).mean().to_frame().reset_index()\n",
    "min_daily_moisture.columns = ['Date', 'Min_Daily_moisture']\n",
    "df = df.merge(min_daily_moisture, how = 'left')"
   ]
  },
  {
   "cell_type": "code",
   "execution_count": 16,
   "metadata": {
    "collapsed": false
   },
   "outputs": [],
   "source": [
    "# Repeating with weekly averages of predictors\n",
    "\n",
    "# Wind\n",
    "avg_weekly_breeze = df['Average_Breeze_Speed'].groupby((df['Year'], df['Week'])).mean().to_frame().reset_index()\n",
    "avg_weekly_breeze.columns = ['Year', 'Week', 'Avg_Weekly_Breeze']\n",
    "df = df.merge(avg_weekly_breeze, how = 'left')\n",
    "\n",
    "max_weekly_breeze = df['Max_Breeze_Speed'].groupby((df['Year'], df['Week'])).mean().to_frame().reset_index()\n",
    "max_weekly_breeze.columns = ['Year', 'Week', 'Max_Weekly_Breeze']\n",
    "df = df.merge(max_weekly_breeze, how = 'left')\n",
    "\n",
    "min_weekly_breeze = df['Min_Breeze_Speed'].groupby((df['Year'], df['Week'])).mean().to_frame().reset_index()\n",
    "min_weekly_breeze.columns = ['Year', 'Week', 'Min_Weekly_Breeze']\n",
    "df = df.merge(min_weekly_breeze, how = 'left')\n",
    "\n",
    "\n",
    "# Var 1\n",
    "var1_weekly = df['Var1'].groupby((df['Year'], df['Week'])).mean().to_frame().reset_index()\n",
    "var1_weekly.columns = ['Year', 'Week', 'Var1_Weekly']\n",
    "df = df.merge(var1_weekly, how = 'left')\n",
    "\n",
    "\n",
    "# Atmosphere & Pollution\n",
    "avg_weekly_atmo = df['Average_Atmospheric_Pressure'].groupby((df['Year'], df['Week'])).mean().to_frame().reset_index()\n",
    "avg_weekly_atmo.columns = ['Year', 'Week', 'Avg_Weekly_Atmosphere']\n",
    "df = df.merge(avg_weekly_atmo, how = 'left')\n",
    "\n",
    "max_weekly_atmo = df['Max_Atmospheric_Pressure'].groupby((df['Year'], df['Week'])).mean().to_frame().reset_index()\n",
    "max_weekly_atmo.columns = ['Year', 'Week', 'Max_Weekly_Atmosphere']\n",
    "df = df.merge(max_weekly_atmo, how = 'left')\n",
    "\n",
    "min_weekly_atmo = df['Min_Atmospheric_Pressure'].groupby((df['Year'], df['Week'])).mean().to_frame().reset_index()\n",
    "min_weekly_atmo.columns = ['Year', 'Week', 'Min_Weekly_Atmosphere']\n",
    "df = df.merge(min_weekly_atmo, how = 'left')\n",
    "\n",
    "max_weekly_pollution = df['Max_Ambient_Pollution'].groupby((df['Year'], df['Week'])).mean().to_frame().reset_index()\n",
    "max_weekly_pollution.columns = ['Year', 'Week', 'Max_Weekly_Pollution']\n",
    "df = df.merge(max_weekly_pollution, how = 'left')\n",
    "\n",
    "min_weekly_pollution = df['Min_Ambient_Pollution'].groupby((df['Year'], df['Week'])).mean().to_frame().reset_index()\n",
    "min_weekly_pollution.columns = ['Year', 'Week', 'Min_Weekly_Pollution']\n",
    "df = df.merge(min_weekly_pollution, how = 'left')\n",
    "\n",
    "\n",
    "# Moisture\n",
    "avg_weekly_moisture = df['Average_Moisture_In_Park'].groupby((df['Year'], df['Week'])).mean().to_frame().reset_index()\n",
    "avg_weekly_moisture.columns = ['Year', 'Week', 'Avg_Weekly_Moisture']\n",
    "df = df.merge(avg_weekly_moisture, how = 'left')\n",
    "\n",
    "max_weekly_moisture = df['Max_Moisture_In_Park'].groupby((df['Year'], df['Week'])).mean().to_frame().reset_index()\n",
    "max_weekly_moisture.columns = ['Year', 'Week', 'Max_Weekly_Moisture']\n",
    "df = df.merge(max_weekly_moisture, how = 'left')\n",
    "\n",
    "min_weekly_moisture = df['Min_Moisture_In_Park'].groupby((df['Year'], df['Week'])).mean().to_frame().reset_index()\n",
    "min_weekly_moisture.columns = ['Year', 'Week', 'Min_Weekly_Moisture']\n",
    "df = df.merge(min_weekly_moisture, how = 'left')"
   ]
  },
  {
   "cell_type": "markdown",
   "metadata": {},
   "source": [
    "*Testing Set*"
   ]
  },
  {
   "cell_type": "code",
   "execution_count": 17,
   "metadata": {
    "collapsed": false
   },
   "outputs": [],
   "source": [
    "# Gathering the daily averages of predictors\n",
    "\n",
    "# Wind\n",
    "avg_daily_breeze = df_test['Average_Breeze_Speed'].groupby(df_test['Date']).mean().to_frame().reset_index()\n",
    "avg_daily_breeze.columns = ['Date', 'Avg_Daily_Breeze']\n",
    "df_test = df_test.merge(avg_daily_breeze, how = 'left')\n",
    "\n",
    "max_daily_breeze = df_test['Max_Breeze_Speed'].groupby(df_test['Date']).mean().to_frame().reset_index()\n",
    "max_daily_breeze.columns = ['Date', 'Max_Daily_Breeze']\n",
    "df_test = df_test.merge(max_daily_breeze, how = 'left')\n",
    "\n",
    "min_daily_breeze = df_test['Min_Breeze_Speed'].groupby(df_test['Date']).mean().to_frame().reset_index()\n",
    "min_daily_breeze.columns = ['Date', 'Min_Daily_Breeze']\n",
    "df_test = df_test.merge(min_daily_breeze, how = 'left')\n",
    "\n",
    "\n",
    "# Var1\n",
    "var1_daily = df_test['Var1'].groupby(df_test['Date']).mean().to_frame().reset_index()\n",
    "var1_daily.columns = ['Date', 'Var1_Daily']\n",
    "df_test = df_test.merge(var1_daily, how = 'left')\n",
    "\n",
    "\n",
    "# Atmosphere & Pollution\n",
    "avg_daily_atmo = df_test['Average_Atmospheric_Pressure'].groupby(df_test['Date']).mean().to_frame().reset_index()\n",
    "avg_daily_atmo.columns = ['Date', 'Avg_Daily_Atmosphere']\n",
    "df_test = df_test.merge(avg_daily_atmo, how = 'left')\n",
    "                        \n",
    "max_daily_atmo = df_test['Max_Atmospheric_Pressure'].groupby(df_test['Date']).mean().to_frame().reset_index()\n",
    "max_daily_atmo.columns = ['Date', 'Max_Daily_Atmosphere']\n",
    "df_test = df_test.merge(max_daily_atmo, how = 'left')\n",
    "                        \n",
    "min_daily_atmo = df_test['Min_Atmospheric_Pressure'].groupby(df_test['Date']).mean().to_frame().reset_index()\n",
    "min_daily_atmo.columns = ['Date', 'Min_Daily_Atmosphere']\n",
    "df_test = df_test.merge(min_daily_atmo, how = 'left')\n",
    "                        \n",
    "max_daily_pollution = df_test['Max_Ambient_Pollution'].groupby(df_test['Date']).mean().to_frame().reset_index()\n",
    "max_daily_pollution.columns = ['Date', 'Max_Daily_Pollution']\n",
    "df_test = df_test.merge(max_daily_pollution, how = 'left')\n",
    "                        \n",
    "min_daily_pollution = df_test['Min_Ambient_Pollution'].groupby(df_test['Date']).mean().to_frame().reset_index()\n",
    "min_daily_pollution.columns = ['Date', 'Min_Daily_Pollution']\n",
    "df_test = df_test.merge(min_daily_pollution, how = 'left')\n",
    "\n",
    "\n",
    "# Moisture\n",
    "avg_daily_moisture = df_test['Average_Moisture_In_Park'].groupby(df_test['Date']).mean().to_frame().reset_index()\n",
    "avg_daily_moisture.columns = ['Date', 'Avg_Daily_moisture']\n",
    "df_test = df_test.merge(avg_daily_moisture, how = 'left')\n",
    "                        \n",
    "max_daily_moisture = df_test['Max_Moisture_In_Park'].groupby(df_test['Date']).mean().to_frame().reset_index()\n",
    "max_daily_moisture.columns = ['Date', 'Max_Daily_moisture']\n",
    "df_test = df_test.merge(max_daily_moisture, how = 'left')\n",
    "                        \n",
    "min_daily_moisture = df_test['Min_Moisture_In_Park'].groupby(df_test['Date']).mean().to_frame().reset_index()\n",
    "min_daily_moisture.columns = ['Date', 'Min_Daily_moisture']\n",
    "df_test = df_test.merge(min_daily_moisture, how = 'left')"
   ]
  },
  {
   "cell_type": "code",
   "execution_count": 18,
   "metadata": {
    "collapsed": true
   },
   "outputs": [],
   "source": [
    "# Repeating with weekly averages of predictors\n",
    "\n",
    "# Wind\n",
    "avg_weekly_breeze = df_test['Average_Breeze_Speed'].groupby((df_test['Year'], df_test['Week'])).mean().to_frame().reset_index()\n",
    "avg_weekly_breeze.columns = ['Year', 'Week', 'Avg_Weekly_Breeze']\n",
    "df_test = df_test.merge(avg_weekly_breeze, how = 'left')\n",
    "\n",
    "max_weekly_breeze = df_test['Max_Breeze_Speed'].groupby((df_test['Year'], df_test['Week'])).mean().to_frame().reset_index()\n",
    "max_weekly_breeze.columns = ['Year', 'Week', 'Max_Weekly_Breeze']\n",
    "df_test = df_test.merge(max_weekly_breeze, how = 'left')\n",
    "\n",
    "min_weekly_breeze = df_test['Min_Breeze_Speed'].groupby((df_test['Year'], df_test['Week'])).mean().to_frame().reset_index()\n",
    "min_weekly_breeze.columns = ['Year', 'Week', 'Min_Weekly_Breeze']\n",
    "df_test = df_test.merge(min_weekly_breeze, how = 'left')\n",
    "\n",
    "\n",
    "# Var 1\n",
    "var1_weekly = df_test['Var1'].groupby((df_test['Year'], df_test['Week'])).mean().to_frame().reset_index()\n",
    "var1_weekly.columns = ['Year', 'Week', 'Var1_Weekly']\n",
    "df_test = df_test.merge(var1_weekly, how = 'left')\n",
    "\n",
    "\n",
    "# Atmosphere & Pollution\n",
    "avg_weekly_atmo = df_test['Average_Atmospheric_Pressure'].groupby((df_test['Year'], df_test['Week'])).mean().to_frame().reset_index()\n",
    "avg_weekly_atmo.columns = ['Year', 'Week', 'Avg_Weekly_Atmosphere']\n",
    "df_test = df_test.merge(avg_weekly_atmo, how = 'left')\n",
    "\n",
    "max_weekly_atmo = df_test['Max_Atmospheric_Pressure'].groupby((df_test['Year'], df_test['Week'])).mean().to_frame().reset_index()\n",
    "max_weekly_atmo.columns = ['Year', 'Week', 'Max_Weekly_Atmosphere']\n",
    "df_test = df_test.merge(max_weekly_atmo, how = 'left')\n",
    "\n",
    "min_weekly_atmo = df_test['Min_Atmospheric_Pressure'].groupby((df_test['Year'], df_test['Week'])).mean().to_frame().reset_index()\n",
    "min_weekly_atmo.columns = ['Year', 'Week', 'Min_Weekly_Atmosphere']\n",
    "df_test = df_test.merge(min_weekly_atmo, how = 'left')\n",
    "\n",
    "max_weekly_pollution = df_test['Max_Ambient_Pollution'].groupby((df_test['Year'], df_test['Week'])).mean().to_frame().reset_index()\n",
    "max_weekly_pollution.columns = ['Year', 'Week', 'Max_Weekly_Pollution']\n",
    "df_test = df_test.merge(max_weekly_pollution, how = 'left')\n",
    "\n",
    "min_weekly_pollution = df_test['Min_Ambient_Pollution'].groupby((df_test['Year'], df_test['Week'])).mean().to_frame().reset_index()\n",
    "min_weekly_pollution.columns = ['Year', 'Week', 'Min_Weekly_Pollution']\n",
    "df_test = df_test.merge(min_weekly_pollution, how = 'left')\n",
    "\n",
    "\n",
    "# Moisture\n",
    "avg_weekly_moisture = df_test['Average_Moisture_In_Park'].groupby((df_test['Year'], df_test['Week'])).mean().to_frame().reset_index()\n",
    "avg_weekly_moisture.columns = ['Year', 'Week', 'Avg_Weekly_Moisture']\n",
    "df_test = df_test.merge(avg_weekly_moisture, how = 'left')\n",
    "\n",
    "max_weekly_moisture = df_test['Max_Moisture_In_Park'].groupby((df_test['Year'], df_test['Week'])).mean().to_frame().reset_index()\n",
    "max_weekly_moisture.columns = ['Year', 'Week', 'Max_Weekly_Moisture']\n",
    "df_test = df_test.merge(max_weekly_moisture, how = 'left')\n",
    "\n",
    "min_weekly_moisture = df_test['Min_Moisture_In_Park'].groupby((df_test['Year'], df_test['Week'])).mean().to_frame().reset_index()\n",
    "min_weekly_moisture.columns = ['Year', 'Week', 'Min_Weekly_Moisture']\n",
    "df_test = df_test.merge(min_weekly_moisture, how = 'left')"
   ]
  },
  {
   "cell_type": "code",
   "execution_count": 19,
   "metadata": {
    "collapsed": true
   },
   "outputs": [],
   "source": [
    "df_full = df.append(df_test)"
   ]
  },
  {
   "cell_type": "markdown",
   "metadata": {},
   "source": [
    "## Handling Missing Values\n",
    "\n",
    "- Using random forests for all missing value prediction for imputation\n",
    "- For values with missing average, minimum, and maximum values, will first predict the average, then use that in predicting the minimum, then use both in predicting the maximum.\n",
    "\n",
    "This section is relatively lengthy, and I used alot of copying/pasting.  There are better ways to handle this for something that would be used for production, but it got the job done for this application."
   ]
  },
  {
   "cell_type": "markdown",
   "metadata": {},
   "source": [
    "#### Average Atmospheric Pressure"
   ]
  },
  {
   "cell_type": "code",
   "execution_count": 20,
   "metadata": {
    "collapsed": false
   },
   "outputs": [
    {
     "data": {
      "text/plain": [
       "RandomForestRegressor(bootstrap=True, criterion='mse', max_depth=None,\n",
       "           max_features='auto', max_leaf_nodes=None, min_samples_leaf=1,\n",
       "           min_samples_split=2, min_weight_fraction_leaf=0.0,\n",
       "           n_estimators=150, n_jobs=4, oob_score=False, random_state=None,\n",
       "           verbose=0, warm_start=False)"
      ]
     },
     "execution_count": 20,
     "metadata": {},
     "output_type": "execute_result"
    }
   ],
   "source": [
    "X = df_full[df_full['Average_Atmospheric_Pressure'].isnull() == False].drop(['ID', 'Footfall', 'Date', 'Year', 'Average_Atmospheric_Pressure'\n",
    "                                                              ,'Max_Atmospheric_Pressure'\n",
    "                                                              ,'Min_Atmospheric_Pressure'\n",
    "                                                              ,'Min_Ambient_Pollution'\n",
    "                                                              ,'Max_Ambient_Pollution'], axis = 1)\n",
    "\n",
    "imp = Imputer(missing_values='NaN', strategy='mean', axis=0)\n",
    "X = imp.fit_transform(X)\n",
    "\n",
    "y = df_full['Average_Atmospheric_Pressure'].dropna()\n",
    "\n",
    "X_train, X_test, y_train, y_test = train_test_split(X, y, test_size = 0.30)\n",
    "\n",
    "rfr_avg_atmosphere = RandomForestRegressor(n_estimators = 150, n_jobs = 4)\n",
    "rfr_avg_atmosphere.fit(X_train, y_train)"
   ]
  },
  {
   "cell_type": "code",
   "execution_count": 21,
   "metadata": {
    "collapsed": false
   },
   "outputs": [
    {
     "data": {
      "text/plain": [
       "0.99347389326468905"
      ]
     },
     "execution_count": 21,
     "metadata": {},
     "output_type": "execute_result"
    }
   ],
   "source": [
    "np.mean(cross_val_score(rfr_avg_atmosphere, X_test, y_test))"
   ]
  },
  {
   "cell_type": "code",
   "execution_count": 22,
   "metadata": {
    "collapsed": false
   },
   "outputs": [],
   "source": [
    "# Predicting the missing values and filling them in the dataframe\n",
    "# Training data\n",
    "X_avg_atmosphere = df[df['Average_Atmospheric_Pressure'].isnull() == True].drop(['ID', 'Footfall', 'Date', 'Year', 'Average_Atmospheric_Pressure'\n",
    "                                                              ,'Max_Atmospheric_Pressure'\n",
    "                                                              ,'Min_Atmospheric_Pressure'\n",
    "                                                              ,'Min_Ambient_Pollution'\n",
    "                                                              ,'Max_Ambient_Pollution'], axis = 1)\n",
    "\n",
    "X_avg_atmosphere = imp.fit_transform(X_avg_atmosphere)\n",
    "\n",
    "avg_atmosphere_prediction = rfr_avg_atmosphere.predict(X_avg_atmosphere)\n",
    "avg_atmosphere_prediction = pd.DataFrame({'ID':df.ix[(df['Average_Atmospheric_Pressure'].isnull() == True)]['ID']\n",
    "                                          ,'avg_atmo_predict':avg_atmosphere_prediction})\n",
    "\n",
    "df = df.merge(avg_atmosphere_prediction, how = 'left', on = 'ID')\n",
    "\n",
    "df.Average_Atmospheric_Pressure.fillna(df.avg_atmo_predict, inplace=True)\n",
    "del df['avg_atmo_predict']"
   ]
  },
  {
   "cell_type": "code",
   "execution_count": 23,
   "metadata": {
    "collapsed": false
   },
   "outputs": [],
   "source": [
    "# Predicting the missing values and filling them in the dataframe\n",
    "# Test data\n",
    "X_avg_atmosphere = df_test[df_test['Average_Atmospheric_Pressure'].isnull() == True].drop(['ID', 'Date', 'Average_Atmospheric_Pressure', 'Year'\n",
    "                                                              ,'Max_Atmospheric_Pressure'\n",
    "                                                              ,'Min_Atmospheric_Pressure'\n",
    "                                                              ,'Min_Ambient_Pollution'\n",
    "                                                              ,'Max_Ambient_Pollution'], axis = 1)\n",
    "\n",
    "X_avg_atmosphere = imp.fit_transform(X_avg_atmosphere)\n",
    "\n",
    "avg_atmosphere_prediction = rfr_avg_atmosphere.predict(X_avg_atmosphere)\n",
    "avg_atmosphere_prediction = pd.DataFrame({'ID':df_test.ix[(df_test['Average_Atmospheric_Pressure'].isnull() == True)]['ID']\n",
    "                                          ,'avg_atmo_predict':avg_atmosphere_prediction})\n",
    "\n",
    "df_test = df_test.merge(avg_atmosphere_prediction, how = 'left', on = 'ID')\n",
    "\n",
    "df_test.Average_Atmospheric_Pressure.fillna(df_test.avg_atmo_predict, inplace=True)\n",
    "del df_test['avg_atmo_predict']"
   ]
  },
  {
   "cell_type": "markdown",
   "metadata": {},
   "source": [
    "#### Max Atmospheric Pressure"
   ]
  },
  {
   "cell_type": "code",
   "execution_count": 24,
   "metadata": {
    "collapsed": false
   },
   "outputs": [
    {
     "data": {
      "text/plain": [
       "RandomForestRegressor(bootstrap=True, criterion='mse', max_depth=None,\n",
       "           max_features='auto', max_leaf_nodes=None, min_samples_leaf=1,\n",
       "           min_samples_split=2, min_weight_fraction_leaf=0.0,\n",
       "           n_estimators=150, n_jobs=4, oob_score=False, random_state=None,\n",
       "           verbose=0, warm_start=False)"
      ]
     },
     "execution_count": 24,
     "metadata": {},
     "output_type": "execute_result"
    }
   ],
   "source": [
    "X = df_full[df_full['Max_Atmospheric_Pressure'].isnull() == False].drop(['ID', 'Footfall', 'Date', 'Year'\n",
    "                                                              ,'Max_Atmospheric_Pressure'\n",
    "                                                              ,'Min_Atmospheric_Pressure'\n",
    "                                                              ,'Min_Ambient_Pollution'\n",
    "                                                              ,'Max_Ambient_Pollution'], axis = 1)\n",
    "\n",
    "X = imp.fit_transform(X)\n",
    "\n",
    "y = df_full['Max_Atmospheric_Pressure'].dropna()\n",
    "\n",
    "X_train, X_test, y_train, y_test = train_test_split(X, y, test_size = 0.30)\n",
    "\n",
    "rfr_max_atmosphere = RandomForestRegressor(n_estimators = 150, n_jobs = 4)\n",
    "rfr_max_atmosphere.fit(X_train, y_train)"
   ]
  },
  {
   "cell_type": "code",
   "execution_count": 25,
   "metadata": {
    "collapsed": false
   },
   "outputs": [
    {
     "data": {
      "text/plain": [
       "0.9954164885643183"
      ]
     },
     "execution_count": 25,
     "metadata": {},
     "output_type": "execute_result"
    }
   ],
   "source": [
    "np.mean(cross_val_score(rfr_max_atmosphere, X_test, y_test))"
   ]
  },
  {
   "cell_type": "code",
   "execution_count": 26,
   "metadata": {
    "collapsed": false
   },
   "outputs": [],
   "source": [
    "# Predicting the missing values and filling them in the dataframe\n",
    "# Training data\n",
    "X_max_atmosphere = df[df['Max_Atmospheric_Pressure'].isnull() == True].drop(['ID', 'Footfall', 'Date', 'Year'\n",
    "                                                              ,'Max_Atmospheric_Pressure'\n",
    "                                                              ,'Min_Atmospheric_Pressure'\n",
    "                                                              ,'Min_Ambient_Pollution'\n",
    "                                                              ,'Max_Ambient_Pollution'], axis = 1)\n",
    "\n",
    "X_max_atmosphere = imp.fit_transform(X_max_atmosphere)\n",
    "\n",
    "max_atmosphere_prediction = rfr_max_atmosphere.predict(X_max_atmosphere)\n",
    "max_atmosphere_prediction = pd.DataFrame({'ID':df.ix[(df['Max_Atmospheric_Pressure'].isnull() == True)]['ID']\n",
    "                                          ,'max_atmo_predict':max_atmosphere_prediction})\n",
    "\n",
    "df = df.merge(max_atmosphere_prediction, how = 'left', on = 'ID')\n",
    "\n",
    "df.Max_Atmospheric_Pressure.fillna(df.max_atmo_predict, inplace=True)\n",
    "del df['max_atmo_predict']"
   ]
  },
  {
   "cell_type": "code",
   "execution_count": 27,
   "metadata": {
    "collapsed": true
   },
   "outputs": [],
   "source": [
    "# Predicting the missing values and filling them in the dataframe\n",
    "# Test data\n",
    "X_max_atmosphere = df_test[df_test['Max_Atmospheric_Pressure'].isnull() == True].drop(['ID', 'Date', 'Year'\n",
    "                                                              ,'Max_Atmospheric_Pressure'\n",
    "                                                              ,'Min_Atmospheric_Pressure'\n",
    "                                                              ,'Min_Ambient_Pollution'\n",
    "                                                              ,'Max_Ambient_Pollution'], axis = 1)\n",
    "\n",
    "X_max_atmosphere = imp.fit_transform(X_max_atmosphere)\n",
    "\n",
    "max_atmosphere_prediction = rfr_max_atmosphere.predict(X_max_atmosphere)\n",
    "max_atmosphere_prediction = pd.DataFrame({'ID':df_test.ix[(df_test['Max_Atmospheric_Pressure'].isnull() == True)]['ID']\n",
    "                                          ,'max_atmo_predict':max_atmosphere_prediction})\n",
    "\n",
    "df_test = df_test.merge(max_atmosphere_prediction, how = 'left', on = 'ID')\n",
    "\n",
    "df_test.Max_Atmospheric_Pressure.fillna(df_test.max_atmo_predict, inplace=True)\n",
    "del df_test['max_atmo_predict']"
   ]
  },
  {
   "cell_type": "markdown",
   "metadata": {},
   "source": [
    "#### Min Atmospheric Pressure"
   ]
  },
  {
   "cell_type": "code",
   "execution_count": 28,
   "metadata": {
    "collapsed": false
   },
   "outputs": [
    {
     "data": {
      "text/plain": [
       "RandomForestRegressor(bootstrap=True, criterion='mse', max_depth=None,\n",
       "           max_features='auto', max_leaf_nodes=None, min_samples_leaf=1,\n",
       "           min_samples_split=2, min_weight_fraction_leaf=0.0,\n",
       "           n_estimators=150, n_jobs=4, oob_score=False, random_state=None,\n",
       "           verbose=0, warm_start=False)"
      ]
     },
     "execution_count": 28,
     "metadata": {},
     "output_type": "execute_result"
    }
   ],
   "source": [
    "X = df_full[df_full['Min_Atmospheric_Pressure'].isnull() == False].drop(['ID', 'Footfall', 'Date', 'Year'\n",
    "                                                              ,'Min_Atmospheric_Pressure'\n",
    "                                                              ,'Max_Ambient_Pollution'\n",
    "                                                              ,'Min_Ambient_Pollution'], axis = 1)\n",
    "\n",
    "X = imp.fit_transform(X)\n",
    "\n",
    "y = df_full['Min_Atmospheric_Pressure'].dropna()\n",
    "\n",
    "X_train, X_test, y_train, y_test = train_test_split(X, y, test_size = 0.30)\n",
    "\n",
    "rfr_min_atmosphere = RandomForestRegressor(n_estimators = 150, n_jobs = 4)\n",
    "rfr_min_atmosphere.fit(X_train, y_train)"
   ]
  },
  {
   "cell_type": "code",
   "execution_count": 29,
   "metadata": {
    "collapsed": false
   },
   "outputs": [
    {
     "data": {
      "text/plain": [
       "0.99499363701433363"
      ]
     },
     "execution_count": 29,
     "metadata": {},
     "output_type": "execute_result"
    }
   ],
   "source": [
    "np.mean(cross_val_score(rfr_min_atmosphere, X_test, y_test))"
   ]
  },
  {
   "cell_type": "code",
   "execution_count": 30,
   "metadata": {
    "collapsed": false
   },
   "outputs": [],
   "source": [
    "# Predicting the missing values and filling them in the dataframe\n",
    "# Training data\n",
    "X_min_atmosphere = df[df['Min_Atmospheric_Pressure'].isnull() == True].drop(['ID', 'Footfall', 'Date', 'Year'\n",
    "                                                              ,'Min_Atmospheric_Pressure'\n",
    "                                                              ,'Min_Ambient_Pollution'\n",
    "                                                              ,'Max_Ambient_Pollution'], axis = 1)\n",
    "\n",
    "X_min_atmosphere = imp.fit_transform(X_min_atmosphere)\n",
    "\n",
    "min_atmosphere_prediction = rfr_min_atmosphere.predict(X_min_atmosphere)\n",
    "min_atmosphere_prediction = pd.DataFrame({'ID':df.ix[(df['Min_Atmospheric_Pressure'].isnull() == True)]['ID']\n",
    "                                          ,'min_atmo_predict':min_atmosphere_prediction})\n",
    "\n",
    "df = df.merge(min_atmosphere_prediction, how = 'left', on = 'ID')\n",
    "\n",
    "df.Min_Atmospheric_Pressure.fillna(df.min_atmo_predict, inplace=True)\n",
    "del df['min_atmo_predict']"
   ]
  },
  {
   "cell_type": "code",
   "execution_count": 31,
   "metadata": {
    "collapsed": false
   },
   "outputs": [],
   "source": [
    "# Predicting the missing values and filling them in the dataframe\n",
    "# Test data\n",
    "X_min_atmosphere = df_test[df_test['Min_Atmospheric_Pressure'].isnull() == True].drop(['ID', 'Date', 'Year'\n",
    "                                                              ,'Min_Atmospheric_Pressure'\n",
    "                                                              ,'Min_Ambient_Pollution'\n",
    "                                                              ,'Max_Ambient_Pollution'], axis = 1)\n",
    "\n",
    "X_min_atmosphere = imp.fit_transform(X_min_atmosphere)\n",
    "\n",
    "min_atmosphere_prediction = rfr_min_atmosphere.predict(X_min_atmosphere)\n",
    "min_atmosphere_prediction = pd.DataFrame({'ID':df_test.ix[(df_test['Min_Atmospheric_Pressure'].isnull() == True)]['ID']\n",
    "                                          ,'min_atmo_predict':min_atmosphere_prediction})\n",
    "\n",
    "df_test = df_test.merge(min_atmosphere_prediction, how = 'left', on = 'ID')\n",
    "\n",
    "df_test.Min_Atmospheric_Pressure.fillna(df_test.min_atmo_predict, inplace=True)\n",
    "del df_test['min_atmo_predict']"
   ]
  },
  {
   "cell_type": "markdown",
   "metadata": {},
   "source": [
    "#### Max Ambient Pollution"
   ]
  },
  {
   "cell_type": "code",
   "execution_count": 32,
   "metadata": {
    "collapsed": false
   },
   "outputs": [
    {
     "data": {
      "text/plain": [
       "RandomForestRegressor(bootstrap=True, criterion='mse', max_depth=None,\n",
       "           max_features='auto', max_leaf_nodes=None, min_samples_leaf=1,\n",
       "           min_samples_split=2, min_weight_fraction_leaf=0.0,\n",
       "           n_estimators=150, n_jobs=4, oob_score=False, random_state=None,\n",
       "           verbose=0, warm_start=False)"
      ]
     },
     "execution_count": 32,
     "metadata": {},
     "output_type": "execute_result"
    }
   ],
   "source": [
    "X = df_full[df_full['Max_Ambient_Pollution'].isnull() == False].drop(['ID', 'Footfall', 'Date', 'Year'\n",
    "                                                              ,'Min_Ambient_Pollution'\n",
    "                                                              ,'Max_Ambient_Pollution'], axis = 1)\n",
    "\n",
    "X = imp.fit_transform(X)\n",
    "\n",
    "y = df_full['Max_Ambient_Pollution'].dropna()\n",
    "\n",
    "X_train, X_test, y_train, y_test = train_test_split(X, y, test_size = 0.30)\n",
    "\n",
    "rfr_max_pollution = RandomForestRegressor(n_estimators = 150, n_jobs = 4)\n",
    "rfr_max_pollution.fit(X_train, y_train)"
   ]
  },
  {
   "cell_type": "code",
   "execution_count": 33,
   "metadata": {
    "collapsed": false
   },
   "outputs": [
    {
     "data": {
      "text/plain": [
       "0.80003476426720599"
      ]
     },
     "execution_count": 33,
     "metadata": {},
     "output_type": "execute_result"
    }
   ],
   "source": [
    "np.mean(cross_val_score(rfr_max_pollution, X_test, y_test))"
   ]
  },
  {
   "cell_type": "code",
   "execution_count": 34,
   "metadata": {
    "collapsed": false
   },
   "outputs": [],
   "source": [
    "# Predicting the missing values and filling them in the dataframe\n",
    "# Training data\n",
    "X_max_pollution = df[df['Max_Ambient_Pollution'].isnull() == True].drop(['ID', 'Footfall', 'Date', 'Year'\n",
    "                                                              ,'Min_Ambient_Pollution'\n",
    "                                                              ,'Max_Ambient_Pollution'], axis = 1)\n",
    "\n",
    "X_max_pollution = imp.fit_transform(X_max_pollution)\n",
    "\n",
    "max_pollution_prediction = rfr_max_pollution.predict(X_max_pollution)\n",
    "max_pollution_prediction = pd.DataFrame({'ID':df.ix[(df['Max_Ambient_Pollution'].isnull() == True)]['ID']\n",
    "                                          ,'max_pollution_predict':max_pollution_prediction})\n",
    "\n",
    "df = df.merge(max_pollution_prediction, how = 'left', on = 'ID')\n",
    "\n",
    "df.Max_Ambient_Pollution.fillna(df.max_pollution_predict, inplace=True)\n",
    "del df['max_pollution_predict']"
   ]
  },
  {
   "cell_type": "code",
   "execution_count": 35,
   "metadata": {
    "collapsed": false
   },
   "outputs": [],
   "source": [
    "# Predicting the missing values and filling them in the dataframe\n",
    "# Testing data\n",
    "X_max_pollution = df_test[df_test['Max_Ambient_Pollution'].isnull() == True].drop(['ID', 'Date', 'Year'\n",
    "                                                              ,'Min_Ambient_Pollution'\n",
    "                                                              ,'Max_Ambient_Pollution'], axis = 1)\n",
    "\n",
    "X_max_pollution = imp.fit_transform(X_max_pollution)\n",
    "\n",
    "max_pollution_prediction = rfr_max_pollution.predict(X_max_pollution)\n",
    "max_pollution_prediction = pd.DataFrame({'ID':df_test.ix[(df_test['Max_Ambient_Pollution'].isnull() == True)]['ID']\n",
    "                                          ,'max_pollution_predict':max_pollution_prediction})\n",
    "\n",
    "df_test = df_test.merge(max_pollution_prediction, how = 'left', on = 'ID')\n",
    "\n",
    "df_test.Max_Ambient_Pollution.fillna(df_test.max_pollution_predict, inplace=True)\n",
    "del df_test['max_pollution_predict']"
   ]
  },
  {
   "cell_type": "markdown",
   "metadata": {},
   "source": [
    "#### Min Ambient Pollution"
   ]
  },
  {
   "cell_type": "code",
   "execution_count": 36,
   "metadata": {
    "collapsed": false
   },
   "outputs": [
    {
     "data": {
      "text/plain": [
       "RandomForestRegressor(bootstrap=True, criterion='mse', max_depth=None,\n",
       "           max_features='auto', max_leaf_nodes=None, min_samples_leaf=1,\n",
       "           min_samples_split=2, min_weight_fraction_leaf=0.0,\n",
       "           n_estimators=150, n_jobs=4, oob_score=False, random_state=None,\n",
       "           verbose=0, warm_start=False)"
      ]
     },
     "execution_count": 36,
     "metadata": {},
     "output_type": "execute_result"
    }
   ],
   "source": [
    "X = df_full[df_full['Min_Ambient_Pollution'].isnull() == False].drop(['ID', 'Footfall', 'Date', 'Year'\n",
    "                                                              ,'Min_Ambient_Pollution'], axis = 1)\n",
    "\n",
    "X = imp.fit_transform(X)\n",
    "\n",
    "y = df_full['Min_Ambient_Pollution'].dropna()\n",
    "\n",
    "X_train, X_test, y_train, y_test = train_test_split(X, y, test_size = 0.30)\n",
    "\n",
    "rfr_min_pollution = RandomForestRegressor(n_estimators = 150, n_jobs = 4)\n",
    "rfr_min_pollution.fit(X_train, y_train)"
   ]
  },
  {
   "cell_type": "code",
   "execution_count": 37,
   "metadata": {
    "collapsed": false
   },
   "outputs": [
    {
     "data": {
      "text/plain": [
       "0.75850550015000273"
      ]
     },
     "execution_count": 37,
     "metadata": {},
     "output_type": "execute_result"
    }
   ],
   "source": [
    "np.mean(cross_val_score(rfr_min_pollution, X_test, y_test))"
   ]
  },
  {
   "cell_type": "code",
   "execution_count": 38,
   "metadata": {
    "collapsed": true
   },
   "outputs": [],
   "source": [
    "# Predicting the missing values and filling them in the dataframe\n",
    "# Training data\n",
    "X_min_pollution = df[df['Min_Ambient_Pollution'].isnull() == True].drop(['ID', 'Footfall', 'Date', 'Year'\n",
    "                                                              ,'Min_Ambient_Pollution'], axis = 1)\n",
    "\n",
    "X_min_pollution = imp.fit_transform(X_min_pollution)\n",
    "\n",
    "min_pollution_prediction = rfr_min_pollution.predict(X_min_pollution)\n",
    "min_pollution_prediction = pd.DataFrame({'ID':df.ix[(df['Min_Ambient_Pollution'].isnull() == True)]['ID']\n",
    "                                          ,'min_pollution_predict':min_pollution_prediction})\n",
    "\n",
    "df = df.merge(min_pollution_prediction, how = 'left', on = 'ID')\n",
    "\n",
    "df.Min_Ambient_Pollution.fillna(df.min_pollution_predict, inplace=True)\n",
    "del df['min_pollution_predict']"
   ]
  },
  {
   "cell_type": "code",
   "execution_count": 39,
   "metadata": {
    "collapsed": false
   },
   "outputs": [],
   "source": [
    "# Predicting the missing values and filling them in the dataframe\n",
    "# Testing data\n",
    "X_min_pollution = df_test[df_test['Min_Ambient_Pollution'].isnull() == True].drop(['ID', 'Date', 'Year'\n",
    "                                                              ,'Min_Ambient_Pollution'], axis = 1)\n",
    "\n",
    "X_min_pollution = imp.fit_transform(X_min_pollution)\n",
    "\n",
    "min_pollution_prediction = rfr_min_pollution.predict(X_min_pollution)\n",
    "min_pollution_prediction = pd.DataFrame({'ID':df_test.ix[(df_test['Min_Ambient_Pollution'].isnull() == True)]['ID']\n",
    "                                          ,'min_pollution_predict':min_pollution_prediction})\n",
    "\n",
    "df_test = df_test.merge(min_pollution_prediction, how = 'left', on = 'ID')\n",
    "\n",
    "df_test.Min_Ambient_Pollution.fillna(df_test.min_pollution_predict, inplace=True)\n",
    "del df_test['min_pollution_predict']"
   ]
  },
  {
   "cell_type": "markdown",
   "metadata": {},
   "source": [
    "#### Average Breeze Speed"
   ]
  },
  {
   "cell_type": "code",
   "execution_count": 40,
   "metadata": {
    "collapsed": false
   },
   "outputs": [
    {
     "data": {
      "text/plain": [
       "RandomForestRegressor(bootstrap=True, criterion='mse', max_depth=None,\n",
       "           max_features='auto', max_leaf_nodes=None, min_samples_leaf=1,\n",
       "           min_samples_split=2, min_weight_fraction_leaf=0.0,\n",
       "           n_estimators=150, n_jobs=4, oob_score=False, random_state=None,\n",
       "           verbose=0, warm_start=False)"
      ]
     },
     "execution_count": 40,
     "metadata": {},
     "output_type": "execute_result"
    }
   ],
   "source": [
    "X = df_full[df_full['Average_Breeze_Speed'].isnull() == False].drop(['ID', 'Footfall', 'Date', 'Year'\n",
    "                                                              ,'Average_Breeze_Speed'\n",
    "                                                              , 'Max_Breeze_Speed'\n",
    "                                                              , 'Min_Breeze_Speed'\n",
    "                                                              , 'Direction_Of_Wind'], axis = 1)\n",
    "\n",
    "X = imp.fit_transform(X)\n",
    "\n",
    "y = df_full['Average_Breeze_Speed'].dropna()\n",
    "\n",
    "X_train, X_test, y_train, y_test = train_test_split(X, y, test_size = 0.30)\n",
    "\n",
    "rfr_avg_breeze = RandomForestRegressor(n_estimators = 150, n_jobs = 4)\n",
    "rfr_avg_breeze.fit(X_train, y_train)"
   ]
  },
  {
   "cell_type": "code",
   "execution_count": 41,
   "metadata": {
    "collapsed": false
   },
   "outputs": [
    {
     "data": {
      "text/plain": [
       "0.91409857146873208"
      ]
     },
     "execution_count": 41,
     "metadata": {},
     "output_type": "execute_result"
    }
   ],
   "source": [
    "np.mean(cross_val_score(rfr_avg_breeze, X_test, y_test))"
   ]
  },
  {
   "cell_type": "code",
   "execution_count": 42,
   "metadata": {
    "collapsed": true
   },
   "outputs": [],
   "source": [
    "# Predicting the missing values and filling them in the dataframe\n",
    "# Training data\n",
    "X_avg_breeze = df[df['Average_Breeze_Speed'].isnull() == True].drop(['ID', 'Footfall', 'Date', 'Year'\n",
    "                                                              ,'Average_Breeze_Speed'\n",
    "                                                              , 'Max_Breeze_Speed'\n",
    "                                                              , 'Min_Breeze_Speed'\n",
    "                                                              , 'Direction_Of_Wind'], axis = 1)\n",
    "\n",
    "X_avg_breeze = imp.fit_transform(X_avg_breeze)\n",
    "\n",
    "avg_breeze_prediction = rfr_avg_breeze.predict(X_avg_breeze)\n",
    "avg_breeze_prediction = pd.DataFrame({'ID':df.ix[(df['Average_Breeze_Speed'].isnull() == True)]['ID']\n",
    "                                          ,'avg_breeze_predict':avg_breeze_prediction})\n",
    "\n",
    "df = df.merge(avg_breeze_prediction, how = 'left', on = 'ID')\n",
    "\n",
    "df.Average_Breeze_Speed.fillna(df.avg_breeze_predict, inplace=True)\n",
    "del df['avg_breeze_predict']"
   ]
  },
  {
   "cell_type": "code",
   "execution_count": 43,
   "metadata": {
    "collapsed": false
   },
   "outputs": [],
   "source": [
    "# Predicting the missing values and filling them in the dataframe\n",
    "# Testing data\n",
    "X_avg_breeze = df_test[df_test['Average_Breeze_Speed'].isnull() == True].drop(['ID', 'Date', 'Year'\n",
    "                                                              ,'Average_Breeze_Speed'\n",
    "                                                              , 'Max_Breeze_Speed'\n",
    "                                                              , 'Min_Breeze_Speed'\n",
    "                                                              , 'Direction_Of_Wind'], axis = 1)\n",
    "\n",
    "X_avg_breeze = imp.fit_transform(X_avg_breeze)\n",
    "\n",
    "avg_breeze_prediction = rfr_avg_breeze.predict(X_avg_breeze)\n",
    "avg_breeze_prediction = pd.DataFrame({'ID':df_test.ix[(df_test['Average_Breeze_Speed'].isnull() == True)]['ID']\n",
    "                                          ,'avg_breeze_predict':avg_breeze_prediction})\n",
    "\n",
    "df_test = df_test.merge(avg_breeze_prediction, how = 'left', on = 'ID')\n",
    "\n",
    "df_test.Average_Breeze_Speed.fillna(df_test.avg_breeze_predict, inplace=True)\n",
    "del df_test['avg_breeze_predict']"
   ]
  },
  {
   "cell_type": "markdown",
   "metadata": {},
   "source": [
    "#### Max Breeze Speed"
   ]
  },
  {
   "cell_type": "code",
   "execution_count": 44,
   "metadata": {
    "collapsed": false
   },
   "outputs": [
    {
     "data": {
      "text/plain": [
       "RandomForestRegressor(bootstrap=True, criterion='mse', max_depth=None,\n",
       "           max_features='auto', max_leaf_nodes=None, min_samples_leaf=1,\n",
       "           min_samples_split=2, min_weight_fraction_leaf=0.0,\n",
       "           n_estimators=150, n_jobs=4, oob_score=False, random_state=None,\n",
       "           verbose=0, warm_start=False)"
      ]
     },
     "execution_count": 44,
     "metadata": {},
     "output_type": "execute_result"
    }
   ],
   "source": [
    "X = df_full[df_full['Max_Breeze_Speed'].isnull() == False].drop(['ID', 'Footfall', 'Date', 'Year'\n",
    "                                                              , 'Max_Breeze_Speed'\n",
    "                                                              , 'Min_Breeze_Speed'\n",
    "                                                              , 'Direction_Of_Wind'], axis = 1)\n",
    "\n",
    "X = imp.fit_transform(X)\n",
    "\n",
    "y = df_full['Max_Breeze_Speed'].dropna()\n",
    "\n",
    "X_train, X_test, y_train, y_test = train_test_split(X, y, test_size = 0.30)\n",
    "\n",
    "rfr_max_breeze = RandomForestRegressor(n_estimators = 150, n_jobs = 4)\n",
    "rfr_max_breeze.fit(X_train, y_train)"
   ]
  },
  {
   "cell_type": "code",
   "execution_count": 45,
   "metadata": {
    "collapsed": false
   },
   "outputs": [
    {
     "data": {
      "text/plain": [
       "0.92781368606209191"
      ]
     },
     "execution_count": 45,
     "metadata": {},
     "output_type": "execute_result"
    }
   ],
   "source": [
    "np.mean(cross_val_score(rfr_max_breeze, X_test, y_test))"
   ]
  },
  {
   "cell_type": "code",
   "execution_count": 46,
   "metadata": {
    "collapsed": true
   },
   "outputs": [],
   "source": [
    "# Predicting the missing values and filling them in the dataframe\n",
    "# Training data\n",
    "X_max_breeze = df[df['Max_Breeze_Speed'].isnull() == True].drop(['ID', 'Footfall', 'Date', 'Year'\n",
    "                                                              , 'Max_Breeze_Speed'\n",
    "                                                              , 'Min_Breeze_Speed'\n",
    "                                                              , 'Direction_Of_Wind'], axis = 1)\n",
    "\n",
    "X_max_breeze = imp.fit_transform(X_max_breeze)\n",
    "\n",
    "max_breeze_prediction = rfr_max_breeze.predict(X_max_breeze)\n",
    "max_breeze_prediction = pd.DataFrame({'ID':df.ix[(df['Max_Breeze_Speed'].isnull() == True)]['ID']\n",
    "                                          ,'max_breeze_predict':max_breeze_prediction})\n",
    "\n",
    "df = df.merge(max_breeze_prediction, how = 'left', on = 'ID')\n",
    "\n",
    "df.Max_Breeze_Speed.fillna(df.max_breeze_predict, inplace=True)\n",
    "del df['max_breeze_predict']"
   ]
  },
  {
   "cell_type": "code",
   "execution_count": 47,
   "metadata": {
    "collapsed": true
   },
   "outputs": [],
   "source": [
    "# Predicting the missing values and filling them in the dataframe\n",
    "# Testing data\n",
    "X_max_breeze = df_test[df_test['Max_Breeze_Speed'].isnull() == True].drop(['ID', 'Date', 'Year'\n",
    "                                                              , 'Max_Breeze_Speed'\n",
    "                                                              , 'Min_Breeze_Speed'\n",
    "                                                              , 'Direction_Of_Wind'], axis = 1)\n",
    "\n",
    "X_max_breeze = imp.fit_transform(X_max_breeze)\n",
    "\n",
    "max_breeze_prediction = rfr_max_breeze.predict(X_max_breeze)\n",
    "max_breeze_prediction = pd.DataFrame({'ID':df_test.ix[(df_test['Max_Breeze_Speed'].isnull() == True)]['ID']\n",
    "                                          ,'max_breeze_predict':max_breeze_prediction})\n",
    "\n",
    "df_test = df_test.merge(max_breeze_prediction, how = 'left', on = 'ID')\n",
    "\n",
    "df_test.Max_Breeze_Speed.fillna(df_test.max_breeze_predict, inplace=True)\n",
    "del df_test['max_breeze_predict']"
   ]
  },
  {
   "cell_type": "markdown",
   "metadata": {},
   "source": [
    "#### Min Breeze Speed"
   ]
  },
  {
   "cell_type": "code",
   "execution_count": 48,
   "metadata": {
    "collapsed": false
   },
   "outputs": [
    {
     "data": {
      "text/plain": [
       "RandomForestRegressor(bootstrap=True, criterion='mse', max_depth=None,\n",
       "           max_features='auto', max_leaf_nodes=None, min_samples_leaf=1,\n",
       "           min_samples_split=2, min_weight_fraction_leaf=0.0,\n",
       "           n_estimators=150, n_jobs=4, oob_score=False, random_state=None,\n",
       "           verbose=0, warm_start=False)"
      ]
     },
     "execution_count": 48,
     "metadata": {},
     "output_type": "execute_result"
    }
   ],
   "source": [
    "X = df_full[df_full['Min_Breeze_Speed'].isnull() == False].drop(['ID', 'Footfall', 'Date', 'Year'\n",
    "                                                              , 'Min_Breeze_Speed'\n",
    "                                                              , 'Direction_Of_Wind'], axis = 1)\n",
    "\n",
    "X = imp.fit_transform(X)\n",
    "\n",
    "y = df_full['Min_Breeze_Speed'].dropna()\n",
    "\n",
    "X_train, X_test, y_train, y_test = train_test_split(X, y, test_size = 0.30)\n",
    "\n",
    "rfr_min_breeze = RandomForestRegressor(n_estimators = 150, n_jobs = 4)\n",
    "rfr_min_breeze.fit(X_train, y_train)"
   ]
  },
  {
   "cell_type": "code",
   "execution_count": 49,
   "metadata": {
    "collapsed": false
   },
   "outputs": [
    {
     "data": {
      "text/plain": [
       "0.88292032860270131"
      ]
     },
     "execution_count": 49,
     "metadata": {},
     "output_type": "execute_result"
    }
   ],
   "source": [
    "np.mean(cross_val_score(rfr_min_breeze, X_test, y_test))"
   ]
  },
  {
   "cell_type": "code",
   "execution_count": 50,
   "metadata": {
    "collapsed": true
   },
   "outputs": [],
   "source": [
    "# Predicting the missing values and filling them in the dataframe\n",
    "# Training data\n",
    "X_min_breeze = df[df['Min_Breeze_Speed'].isnull() == True].drop(['ID', 'Footfall', 'Date', 'Year'\n",
    "                                                              , 'Min_Breeze_Speed'\n",
    "                                                              , 'Direction_Of_Wind'], axis = 1)\n",
    "\n",
    "X_min_breeze = imp.fit_transform(X_min_breeze)\n",
    "\n",
    "min_breeze_prediction = rfr_min_breeze.predict(X_min_breeze)\n",
    "min_breeze_prediction = pd.DataFrame({'ID':df.ix[(df['Min_Breeze_Speed'].isnull() == True)]['ID']\n",
    "                                          ,'min_breeze_predict':min_breeze_prediction})\n",
    "\n",
    "df = df.merge(min_breeze_prediction, how = 'left', on = 'ID')\n",
    "\n",
    "df.Min_Breeze_Speed.fillna(df.min_breeze_predict, inplace=True)\n",
    "del df['min_breeze_predict']"
   ]
  },
  {
   "cell_type": "code",
   "execution_count": 51,
   "metadata": {
    "collapsed": true
   },
   "outputs": [],
   "source": [
    "# Predicting the missing values and filling them in the dataframe\n",
    "# Testing data\n",
    "X_min_breeze = df_test[df_test['Min_Breeze_Speed'].isnull() == True].drop(['ID', 'Date', 'Year'\n",
    "                                                              , 'Min_Breeze_Speed'\n",
    "                                                              , 'Direction_Of_Wind'], axis = 1)\n",
    "\n",
    "X_min_breeze = imp.fit_transform(X_min_breeze)\n",
    "\n",
    "min_breeze_prediction = rfr_min_breeze.predict(X_min_breeze)\n",
    "min_breeze_prediction = pd.DataFrame({'ID':df_test.ix[(df_test['Min_Breeze_Speed'].isnull() == True)]['ID']\n",
    "                                          ,'min_breeze_predict':min_breeze_prediction})\n",
    "\n",
    "df_test = df_test.merge(min_breeze_prediction, how = 'left', on = 'ID')\n",
    "\n",
    "df_test.Min_Breeze_Speed.fillna(df_test.min_breeze_predict, inplace=True)\n",
    "del df_test['min_breeze_predict']"
   ]
  },
  {
   "cell_type": "markdown",
   "metadata": {},
   "source": [
    "#### Average Moisture\n",
    "\n",
    "79 missing values, causing high error on test set"
   ]
  },
  {
   "cell_type": "code",
   "execution_count": 52,
   "metadata": {
    "collapsed": false
   },
   "outputs": [
    {
     "data": {
      "text/plain": [
       "RandomForestRegressor(bootstrap=True, criterion='mse', max_depth=None,\n",
       "           max_features='auto', max_leaf_nodes=None, min_samples_leaf=1,\n",
       "           min_samples_split=2, min_weight_fraction_leaf=0.0,\n",
       "           n_estimators=150, n_jobs=4, oob_score=False, random_state=None,\n",
       "           verbose=0, warm_start=False)"
      ]
     },
     "execution_count": 52,
     "metadata": {},
     "output_type": "execute_result"
    }
   ],
   "source": [
    "X = df_full[df_full['Average_Moisture_In_Park'].isnull() == False].drop(['ID', 'Footfall', 'Date', 'Year'\n",
    "                                                              , 'Average_Moisture_In_Park'\n",
    "                                                              , 'Min_Moisture_In_Park'\n",
    "                                                              , 'Max_Moisture_In_Park'\n",
    "                                                              , 'Direction_Of_Wind'], axis = 1)\n",
    "\n",
    "X = imp.fit_transform(X)\n",
    "\n",
    "y = df_full['Average_Moisture_In_Park'].dropna()\n",
    "\n",
    "X_train, X_test, y_train, y_test = train_test_split(X, y, test_size = 0.30)\n",
    "\n",
    "rfr_avg_moisture = RandomForestRegressor(n_estimators = 150, n_jobs = 4)\n",
    "rfr_avg_moisture.fit(X_train, y_train)"
   ]
  },
  {
   "cell_type": "code",
   "execution_count": 53,
   "metadata": {
    "collapsed": false
   },
   "outputs": [
    {
     "data": {
      "text/plain": [
       "0.87629324767915051"
      ]
     },
     "execution_count": 53,
     "metadata": {},
     "output_type": "execute_result"
    }
   ],
   "source": [
    "np.mean(cross_val_score(rfr_avg_moisture, X_test, y_test))"
   ]
  },
  {
   "cell_type": "code",
   "execution_count": 54,
   "metadata": {
    "collapsed": true
   },
   "outputs": [],
   "source": [
    "# Predicting the missing values and filling them in the dataframe\n",
    "# Training data\n",
    "X_avg_moisture = df[df['Average_Moisture_In_Park'].isnull() == True].drop(['ID', 'Footfall', 'Date', 'Year'\n",
    "                                                              , 'Average_Moisture_In_Park'\n",
    "                                                              , 'Min_Moisture_In_Park'\n",
    "                                                              , 'Max_Moisture_In_Park'\n",
    "                                                              , 'Direction_Of_Wind'], axis = 1)\n",
    "\n",
    "X_avg_moisture = imp.fit_transform(X_avg_moisture)\n",
    "\n",
    "avg_moisture_prediction = rfr_avg_moisture.predict(X_avg_moisture)\n",
    "avg_moisture_prediction = pd.DataFrame({'ID':df.ix[(df['Average_Moisture_In_Park'].isnull() == True)]['ID']\n",
    "                                          ,'avg_moisture_predict':avg_moisture_prediction})\n",
    "\n",
    "df = df.merge(avg_moisture_prediction, how = 'left', on = 'ID')\n",
    "\n",
    "df.Average_Moisture_In_Park.fillna(df.avg_moisture_predict, inplace=True)\n",
    "del df['avg_moisture_predict']"
   ]
  },
  {
   "cell_type": "code",
   "execution_count": 55,
   "metadata": {
    "collapsed": true
   },
   "outputs": [],
   "source": [
    "# Predicting the missing values and filling them in the dataframe\n",
    "# Testing data\n",
    "X_avg_moisture = df_test[df_test['Average_Moisture_In_Park'].isnull() == True].drop(['ID', 'Date', 'Year'\n",
    "                                                              , 'Average_Moisture_In_Park'\n",
    "                                                              , 'Min_Moisture_In_Park'\n",
    "                                                              , 'Max_Moisture_In_Park'\n",
    "                                                              , 'Direction_Of_Wind'], axis = 1)\n",
    "\n",
    "X_avg_moisture = imp.fit_transform(X_avg_moisture)\n",
    "\n",
    "avg_moisture_prediction = rfr_avg_moisture.predict(X_avg_moisture)\n",
    "avg_moisture_prediction = pd.DataFrame({'ID':df_test.ix[(df_test['Average_Moisture_In_Park'].isnull() == True)]['ID']\n",
    "                                          ,'avg_moisture_predict':avg_moisture_prediction})\n",
    "\n",
    "df_test = df_test.merge(avg_moisture_prediction, how = 'left', on = 'ID')\n",
    "\n",
    "df_test.Average_Moisture_In_Park.fillna(df_test.avg_moisture_predict, inplace=True)\n",
    "del df_test['avg_moisture_predict']"
   ]
  },
  {
   "cell_type": "markdown",
   "metadata": {},
   "source": [
    "#### Min Moisture"
   ]
  },
  {
   "cell_type": "code",
   "execution_count": 56,
   "metadata": {
    "collapsed": false
   },
   "outputs": [
    {
     "data": {
      "text/plain": [
       "RandomForestRegressor(bootstrap=True, criterion='mse', max_depth=None,\n",
       "           max_features='auto', max_leaf_nodes=None, min_samples_leaf=1,\n",
       "           min_samples_split=2, min_weight_fraction_leaf=0.0,\n",
       "           n_estimators=150, n_jobs=4, oob_score=False, random_state=None,\n",
       "           verbose=0, warm_start=False)"
      ]
     },
     "execution_count": 56,
     "metadata": {},
     "output_type": "execute_result"
    }
   ],
   "source": [
    "X = df_full[df_full['Min_Moisture_In_Park'].isnull() == False].drop(['ID', 'Footfall', 'Date', 'Year'\n",
    "                                                              , 'Min_Moisture_In_Park'\n",
    "                                                              , 'Max_Moisture_In_Park'\n",
    "                                                              , 'Direction_Of_Wind'], axis = 1)\n",
    "\n",
    "X = imp.fit_transform(X)\n",
    "\n",
    "y = df_full['Min_Moisture_In_Park'].dropna()\n",
    "\n",
    "X_train, X_test, y_train, y_test = train_test_split(X, y, test_size = 0.30)\n",
    "\n",
    "rfr_min_moisture = RandomForestRegressor(n_estimators = 150, n_jobs = 4)\n",
    "rfr_min_moisture.fit(X_train, y_train)"
   ]
  },
  {
   "cell_type": "code",
   "execution_count": 57,
   "metadata": {
    "collapsed": false
   },
   "outputs": [
    {
     "data": {
      "text/plain": [
       "0.93591464075660369"
      ]
     },
     "execution_count": 57,
     "metadata": {},
     "output_type": "execute_result"
    }
   ],
   "source": [
    "np.mean(cross_val_score(rfr_min_moisture, X_test, y_test))"
   ]
  },
  {
   "cell_type": "code",
   "execution_count": 58,
   "metadata": {
    "collapsed": true
   },
   "outputs": [],
   "source": [
    "# Predicting the missing values and filling them in the dataframe\n",
    "# Training data\n",
    "X_min_moisture = df[df['Min_Moisture_In_Park'].isnull() == True].drop(['ID', 'Footfall', 'Date', 'Year'\n",
    "                                                              , 'Min_Moisture_In_Park'\n",
    "                                                              , 'Max_Moisture_In_Park'\n",
    "                                                              , 'Direction_Of_Wind'], axis = 1)\n",
    "\n",
    "X_min_moisture = imp.fit_transform(X_min_moisture)\n",
    "\n",
    "min_moisture_prediction = rfr_min_moisture.predict(X_min_moisture)\n",
    "min_moisture_prediction = pd.DataFrame({'ID':df.ix[(df['Min_Moisture_In_Park'].isnull() == True)]['ID']\n",
    "                                          ,'min_moisture_predict':min_moisture_prediction})\n",
    "\n",
    "df = df.merge(min_moisture_prediction, how = 'left', on = 'ID')\n",
    "\n",
    "df.Min_Moisture_In_Park.fillna(df.min_moisture_predict, inplace=True)\n",
    "del df['min_moisture_predict']"
   ]
  },
  {
   "cell_type": "code",
   "execution_count": 59,
   "metadata": {
    "collapsed": true
   },
   "outputs": [],
   "source": [
    "# Predicting the missing values and filling them in the dataframe\n",
    "# Testing data\n",
    "X_min_moisture = df_test[df_test['Min_Moisture_In_Park'].isnull() == True].drop(['ID', 'Date', 'Year'\n",
    "                                                              , 'Min_Moisture_In_Park'\n",
    "                                                              , 'Max_Moisture_In_Park'\n",
    "                                                              , 'Direction_Of_Wind'], axis = 1)\n",
    "\n",
    "X_min_moisture = imp.fit_transform(X_min_moisture)\n",
    "\n",
    "min_moisture_prediction = rfr_min_moisture.predict(X_min_moisture)\n",
    "min_moisture_prediction = pd.DataFrame({'ID':df_test.ix[(df_test['Min_Moisture_In_Park'].isnull() == True)]['ID']\n",
    "                                          ,'min_moisture_predict':min_moisture_prediction})\n",
    "\n",
    "df_test = df_test.merge(min_moisture_prediction, how = 'left', on = 'ID')\n",
    "\n",
    "df_test.Min_Moisture_In_Park.fillna(df_test.min_moisture_predict, inplace=True)\n",
    "del df_test['min_moisture_predict']"
   ]
  },
  {
   "cell_type": "markdown",
   "metadata": {},
   "source": [
    "#### Max Moisture"
   ]
  },
  {
   "cell_type": "code",
   "execution_count": 60,
   "metadata": {
    "collapsed": false
   },
   "outputs": [
    {
     "data": {
      "text/plain": [
       "RandomForestRegressor(bootstrap=True, criterion='mse', max_depth=None,\n",
       "           max_features='auto', max_leaf_nodes=None, min_samples_leaf=1,\n",
       "           min_samples_split=2, min_weight_fraction_leaf=0.0,\n",
       "           n_estimators=150, n_jobs=4, oob_score=False, random_state=None,\n",
       "           verbose=0, warm_start=False)"
      ]
     },
     "execution_count": 60,
     "metadata": {},
     "output_type": "execute_result"
    }
   ],
   "source": [
    "X = df_full[df_full['Max_Moisture_In_Park'].isnull() == False].drop(['ID', 'Footfall', 'Date', 'Year'\n",
    "                                                              , 'Max_Moisture_In_Park'\n",
    "                                                              , 'Direction_Of_Wind'], axis = 1)\n",
    "\n",
    "X = imp.fit_transform(X)\n",
    "\n",
    "y = df_full['Max_Moisture_In_Park'].dropna()\n",
    "\n",
    "X_train, X_test, y_train, y_test = train_test_split(X, y, test_size = 0.30)\n",
    "\n",
    "rfr_max_moisture = RandomForestRegressor(n_estimators = 150, n_jobs = 4)\n",
    "rfr_max_moisture.fit(X_train, y_train)"
   ]
  },
  {
   "cell_type": "code",
   "execution_count": 61,
   "metadata": {
    "collapsed": false
   },
   "outputs": [
    {
     "data": {
      "text/plain": [
       "0.8239425796574974"
      ]
     },
     "execution_count": 61,
     "metadata": {},
     "output_type": "execute_result"
    }
   ],
   "source": [
    "np.mean(cross_val_score(rfr_max_moisture, X_test, y_test))"
   ]
  },
  {
   "cell_type": "code",
   "execution_count": 62,
   "metadata": {
    "collapsed": true
   },
   "outputs": [],
   "source": [
    "# Predicting the missing values and filling them in the dataframe\n",
    "# Training data\n",
    "X_max_moisture = df[df['Max_Moisture_In_Park'].isnull() == True].drop(['ID', 'Footfall', 'Date', 'Year'\n",
    "                                                              , 'Max_Moisture_In_Park'\n",
    "                                                              , 'Direction_Of_Wind'], axis = 1)\n",
    "\n",
    "X_max_moisture = imp.fit_transform(X_max_moisture)\n",
    "\n",
    "max_moisture_prediction = rfr_max_moisture.predict(X_max_moisture)\n",
    "max_moisture_prediction = pd.DataFrame({'ID':df.ix[(df['Max_Moisture_In_Park'].isnull() == True)]['ID']\n",
    "                                          ,'max_moisture_predict':max_moisture_prediction})\n",
    "\n",
    "df = df.merge(max_moisture_prediction, how = 'left', on = 'ID')\n",
    "\n",
    "df.Max_Moisture_In_Park.fillna(df.max_moisture_predict, inplace=True)\n",
    "del df['max_moisture_predict']"
   ]
  },
  {
   "cell_type": "code",
   "execution_count": 63,
   "metadata": {
    "collapsed": true
   },
   "outputs": [],
   "source": [
    "# Predicting the missing values and filling them in the dataframe\n",
    "# Testing data\n",
    "X_max_moisture = df_test[df_test['Max_Moisture_In_Park'].isnull() == True].drop(['ID', 'Date', 'Year'\n",
    "                                                              , 'Max_Moisture_In_Park'\n",
    "                                                              , 'Direction_Of_Wind'], axis = 1)\n",
    "\n",
    "X_max_moisture = imp.fit_transform(X_max_moisture)\n",
    "\n",
    "max_moisture_prediction = rfr_max_moisture.predict(X_max_moisture)\n",
    "max_moisture_prediction = pd.DataFrame({'ID':df_test.ix[(df_test['Max_Moisture_In_Park'].isnull() == True)]['ID']\n",
    "                                          ,'max_moisture_predict':max_moisture_prediction})\n",
    "\n",
    "df_test = df_test.merge(max_moisture_prediction, how = 'left', on = 'ID')\n",
    "\n",
    "df_test.Max_Moisture_In_Park.fillna(df_test.max_moisture_predict, inplace=True)\n",
    "del df_test['max_moisture_predict']"
   ]
  },
  {
   "cell_type": "markdown",
   "metadata": {},
   "source": [
    "#### Var1"
   ]
  },
  {
   "cell_type": "code",
   "execution_count": 64,
   "metadata": {
    "collapsed": false
   },
   "outputs": [
    {
     "data": {
      "text/plain": [
       "RandomForestRegressor(bootstrap=True, criterion='mse', max_depth=None,\n",
       "           max_features='auto', max_leaf_nodes=None, min_samples_leaf=1,\n",
       "           min_samples_split=2, min_weight_fraction_leaf=0.0,\n",
       "           n_estimators=150, n_jobs=4, oob_score=False, random_state=None,\n",
       "           verbose=0, warm_start=False)"
      ]
     },
     "execution_count": 64,
     "metadata": {},
     "output_type": "execute_result"
    }
   ],
   "source": [
    "X = df_full[df_full['Var1'].isnull() == False].drop(['ID', 'Footfall', 'Date', 'Year'\n",
    "                                                    , 'Var1'\n",
    "                                                    ], axis = 1)\n",
    "\n",
    "X = imp.fit_transform(X)\n",
    "\n",
    "y = df_full['Var1'].dropna()\n",
    "\n",
    "X_train, X_test, y_train, y_test = train_test_split(X, y, test_size = 0.30)\n",
    "\n",
    "rfr_var1 = RandomForestRegressor(n_estimators = 150, n_jobs = 4)\n",
    "rfr_var1.fit(X_train, y_train)"
   ]
  },
  {
   "cell_type": "code",
   "execution_count": 65,
   "metadata": {
    "collapsed": false
   },
   "outputs": [
    {
     "data": {
      "text/plain": [
       "0.61193989909532365"
      ]
     },
     "execution_count": 65,
     "metadata": {},
     "output_type": "execute_result"
    }
   ],
   "source": [
    "np.mean(cross_val_score(rfr_var1, X_test, y_test))"
   ]
  },
  {
   "cell_type": "code",
   "execution_count": 66,
   "metadata": {
    "collapsed": true
   },
   "outputs": [],
   "source": [
    "# Predicting the missing values and filling them in the dataframe\n",
    "# Training data\n",
    "X_var1 = df[df['Var1'].isnull() == True].drop(['ID', 'Footfall', 'Date', 'Year'\n",
    "                                                              , 'Var1'\n",
    "                                                              ], axis = 1)\n",
    "\n",
    "X_var1 = imp.fit_transform(X_var1)\n",
    "\n",
    "var1_prediction = rfr_var1.predict(X_var1)\n",
    "var1_prediction = pd.DataFrame({'ID':df.ix[(df['Var1'].isnull() == True)]['ID']\n",
    "                                          ,'var1_predict':var1_prediction})\n",
    "\n",
    "df = df.merge(var1_prediction, how = 'left', on = 'ID')\n",
    "\n",
    "df.Var1.fillna(df.var1_predict, inplace=True)\n",
    "del df['var1_predict']"
   ]
  },
  {
   "cell_type": "code",
   "execution_count": 67,
   "metadata": {
    "collapsed": true
   },
   "outputs": [],
   "source": [
    "# Predicting the missing values and filling them in the dataframe\n",
    "# Testing data\n",
    "X_var1 = df_test[df_test['Var1'].isnull() == True].drop(['ID', 'Date', 'Year'\n",
    "                                                              , 'Var1'\n",
    "                                                              ], axis = 1)\n",
    "\n",
    "X_var1 = imp.fit_transform(X_var1)\n",
    "\n",
    "var1_prediction = rfr_var1.predict(X_var1)\n",
    "var1_prediction = pd.DataFrame({'ID':df_test.ix[(df_test['Var1'].isnull() == True)]['ID']\n",
    "                                          ,'var1_predict':var1_prediction})\n",
    "\n",
    "df_test = df_test.merge(var1_prediction, how = 'left', on = 'ID')\n",
    "\n",
    "df_test.Var1.fillna(df_test.var1_predict, inplace=True)\n",
    "del df_test['var1_predict']"
   ]
  },
  {
   "cell_type": "markdown",
   "metadata": {},
   "source": [
    "#### Direction of Wind"
   ]
  },
  {
   "cell_type": "code",
   "execution_count": 68,
   "metadata": {
    "collapsed": false
   },
   "outputs": [
    {
     "data": {
      "text/plain": [
       "RandomForestRegressor(bootstrap=True, criterion='mse', max_depth=None,\n",
       "           max_features='auto', max_leaf_nodes=None, min_samples_leaf=1,\n",
       "           min_samples_split=2, min_weight_fraction_leaf=0.0,\n",
       "           n_estimators=150, n_jobs=4, oob_score=False, random_state=None,\n",
       "           verbose=0, warm_start=False)"
      ]
     },
     "execution_count": 68,
     "metadata": {},
     "output_type": "execute_result"
    }
   ],
   "source": [
    "X = df_full[df_full['Direction_Of_Wind'].isnull() == False].drop(['ID', 'Footfall', 'Date', 'Year'\n",
    "                                                    , 'Direction_Of_Wind'\n",
    "                                                    ], axis = 1)\n",
    "\n",
    "X = imp.fit_transform(X)\n",
    "\n",
    "y = df_full['Direction_Of_Wind'].dropna()\n",
    "\n",
    "X_train, X_test, y_train, y_test = train_test_split(X, y, test_size = 0.30)\n",
    "\n",
    "rfr_wind_dir = RandomForestRegressor(n_estimators = 150, n_jobs = 4)\n",
    "rfr_wind_dir.fit(X_train, y_train)"
   ]
  },
  {
   "cell_type": "code",
   "execution_count": 69,
   "metadata": {
    "collapsed": false
   },
   "outputs": [
    {
     "data": {
      "text/plain": [
       "0.67839725370662685"
      ]
     },
     "execution_count": 69,
     "metadata": {},
     "output_type": "execute_result"
    }
   ],
   "source": [
    "np.mean(cross_val_score(rfr_wind_dir, X_test, y_test))"
   ]
  },
  {
   "cell_type": "code",
   "execution_count": 70,
   "metadata": {
    "collapsed": true
   },
   "outputs": [],
   "source": [
    "# Predicting the missing values and filling them in the dataframe\n",
    "# Training data\n",
    "X_wind_dir = df[df['Direction_Of_Wind'].isnull() == True].drop(['ID', 'Footfall', 'Date', 'Year'\n",
    "                                                              , 'Direction_Of_Wind'\n",
    "                                                              ], axis = 1)\n",
    "\n",
    "X_wind_dir = imp.fit_transform(X_wind_dir)\n",
    "\n",
    "wind_dir_prediction = rfr_wind_dir.predict(X_wind_dir)\n",
    "wind_dir_prediction = pd.DataFrame({'ID':df.ix[(df['Direction_Of_Wind'].isnull() == True)]['ID']\n",
    "                                          ,'wind_dir_predict':wind_dir_prediction})\n",
    "\n",
    "df = df.merge(wind_dir_prediction, how = 'left', on = 'ID')\n",
    "\n",
    "df.Direction_Of_Wind.fillna(df.wind_dir_predict, inplace=True)\n",
    "del df['wind_dir_predict']"
   ]
  },
  {
   "cell_type": "code",
   "execution_count": 71,
   "metadata": {
    "collapsed": true
   },
   "outputs": [],
   "source": [
    "# Predicting the missing values and filling them in the dataframe\n",
    "# Testing data\n",
    "X_wind_dir = df_test[df_test['Direction_Of_Wind'].isnull() == True].drop(['ID', 'Date', 'Year'\n",
    "                                                              , 'Direction_Of_Wind'\n",
    "                                                              ], axis = 1)\n",
    "\n",
    "X_wind_dir = imp.fit_transform(X_wind_dir)\n",
    "\n",
    "wind_dir_prediction = rfr_wind_dir.predict(X_wind_dir)\n",
    "wind_dir_prediction = pd.DataFrame({'ID':df_test.ix[(df_test['Direction_Of_Wind'].isnull() == True)]['ID']\n",
    "                                          ,'wind_dir_predict':wind_dir_prediction})\n",
    "\n",
    "df_test = df_test.merge(wind_dir_prediction, how = 'left', on = 'ID')\n",
    "\n",
    "df_test.Direction_Of_Wind.fillna(df_test.wind_dir_predict, inplace=True)\n",
    "del df_test['wind_dir_predict']"
   ]
  },
  {
   "cell_type": "markdown",
   "metadata": {},
   "source": [
    "Checking for all missing values being accounted for:"
   ]
  },
  {
   "cell_type": "code",
   "execution_count": 72,
   "metadata": {
    "collapsed": false
   },
   "outputs": [
    {
     "data": {
      "image/png": "[encoded data removed]",
      "text/plain": [
       "<matplotlib.figure.Figure at 0x1770754e400>"
      ]
     },
     "metadata": {},
     "output_type": "display_data"
    }
   ],
   "source": [
    "df_missing_check = df.append(df_test)\n",
    "df_missing_check = df_missing_check.sort_values(['Date', 'Park_ID'], ascending=[1, 1])\n",
    "msno.matrix(df_missing_check)"
   ]
  },
  {
   "cell_type": "markdown",
   "metadata": {},
   "source": [
    "## Model Building"
   ]
  },
  {
   "cell_type": "markdown",
   "metadata": {},
   "source": [
    "### Gradient Boosted Trees\n",
    "\n",
    "- Max depth of 5 is most effective\n",
    "\n",
    "- Outperformed both random forests and AdaBoost"
   ]
  },
  {
   "cell_type": "code",
   "execution_count": 73,
   "metadata": {
    "collapsed": false
   },
   "outputs": [],
   "source": [
    "X = df.drop(['ID', 'Footfall', 'Date', 'Year'\n",
    "             , 'Location_Type', 'Average_Atmospheric_Pressure', 'Max_Atmospheric_Pressure'\n",
    "             , 'Var1', 'Max_Ambient_Pollution', 'Min_Atmospheric_Pressure'\n",
    "             , 'Max_Breeze_Speed', 'Min_Breeze_Speed', 'Min_Ambient_Pollution'\n",
    "             , 'Max_Moisture_In_Park'\n",
    "            ], axis = 1)\n",
    "imp = Imputer(missing_values='NaN', strategy='median', axis=0)\n",
    "X = imp.fit_transform(X)\n",
    "\n",
    "y = df['Footfall']\n",
    "\n",
    "X_train, X_test, y_train, y_test = train_test_split(X, y, test_size = 0.30)"
   ]
  },
  {
   "cell_type": "code",
   "execution_count": 74,
   "metadata": {
    "collapsed": false
   },
   "outputs": [
    {
     "data": {
      "text/plain": [
       "GradientBoostingRegressor(alpha=0.9, init=None, learning_rate=0.1, loss='ls',\n",
       "             max_depth=5, max_features=None, max_leaf_nodes=None,\n",
       "             min_samples_leaf=1, min_samples_split=2,\n",
       "             min_weight_fraction_leaf=0.0, n_estimators=300,\n",
       "             presort='auto', random_state=None, subsample=1.0, verbose=0,\n",
       "             warm_start=False)"
      ]
     },
     "execution_count": 74,
     "metadata": {},
     "output_type": "execute_result"
    }
   ],
   "source": [
    "gbr = GradientBoostingRegressor(n_estimators = 300\n",
    "                               , max_depth = 5\n",
    "                               )\n",
    "gbr.fit(X_train, y_train)"
   ]
  },
  {
   "cell_type": "code",
   "execution_count": 75,
   "metadata": {
    "collapsed": false
   },
   "outputs": [
    {
     "data": {
      "text/plain": [
       "0.95762687239052224"
      ]
     },
     "execution_count": 75,
     "metadata": {},
     "output_type": "execute_result"
    }
   ],
   "source": [
    "# Regular cross validation\n",
    "np.mean(cross_val_score(gbr, X_test, y_test, n_jobs = 3))"
   ]
  },
  {
   "cell_type": "code",
   "execution_count": 76,
   "metadata": {
    "collapsed": false
   },
   "outputs": [
    {
     "name": "stderr",
     "output_type": "stream",
     "text": [
      "C:\\Anaconda3\\lib\\site-packages\\sklearn\\externals\\joblib\\hashing.py:197: DeprecationWarning: Changing the shape of non-C contiguous array by\n",
      "descriptor assignment is deprecated. To maintain\n",
      "the Fortran contiguity of a multidimensional Fortran\n",
      "array, use 'a.T.view(...).T' instead\n",
      "  obj_bytes_view = obj.view(self.np.uint8)\n",
      "C:\\Anaconda3\\lib\\site-packages\\sklearn\\externals\\joblib\\hashing.py:197: DeprecationWarning: Changing the shape of non-C contiguous array by\n",
      "descriptor assignment is deprecated. To maintain\n",
      "the Fortran contiguity of a multidimensional Fortran\n",
      "array, use 'a.T.view(...).T' instead\n",
      "  obj_bytes_view = obj.view(self.np.uint8)\n",
      "C:\\Anaconda3\\lib\\site-packages\\sklearn\\externals\\joblib\\hashing.py:197: DeprecationWarning: Changing the shape of non-C contiguous array by\n",
      "descriptor assignment is deprecated. To maintain\n",
      "the Fortran contiguity of a multidimensional Fortran\n",
      "array, use 'a.T.view(...).T' instead\n",
      "  obj_bytes_view = obj.view(self.np.uint8)\n",
      "C:\\Anaconda3\\lib\\site-packages\\sklearn\\externals\\joblib\\hashing.py:197: DeprecationWarning: Changing the shape of non-C contiguous array by\n",
      "descriptor assignment is deprecated. To maintain\n",
      "the Fortran contiguity of a multidimensional Fortran\n",
      "array, use 'a.T.view(...).T' instead\n",
      "  obj_bytes_view = obj.view(self.np.uint8)\n",
      "C:\\Anaconda3\\lib\\site-packages\\sklearn\\externals\\joblib\\hashing.py:197: DeprecationWarning: Changing the shape of non-C contiguous array by\n",
      "descriptor assignment is deprecated. To maintain\n",
      "the Fortran contiguity of a multidimensional Fortran\n",
      "array, use 'a.T.view(...).T' instead\n",
      "  obj_bytes_view = obj.view(self.np.uint8)\n",
      "C:\\Anaconda3\\lib\\site-packages\\sklearn\\externals\\joblib\\hashing.py:197: DeprecationWarning: Changing the shape of non-C contiguous array by\n",
      "descriptor assignment is deprecated. To maintain\n",
      "the Fortran contiguity of a multidimensional Fortran\n",
      "array, use 'a.T.view(...).T' instead\n",
      "  obj_bytes_view = obj.view(self.np.uint8)\n",
      "C:\\Anaconda3\\lib\\site-packages\\sklearn\\externals\\joblib\\hashing.py:197: DeprecationWarning: Changing the shape of non-C contiguous array by\n",
      "descriptor assignment is deprecated. To maintain\n",
      "the Fortran contiguity of a multidimensional Fortran\n",
      "array, use 'a.T.view(...).T' instead\n",
      "  obj_bytes_view = obj.view(self.np.uint8)\n",
      "C:\\Anaconda3\\lib\\site-packages\\sklearn\\externals\\joblib\\hashing.py:197: DeprecationWarning: Changing the shape of non-C contiguous array by\n",
      "descriptor assignment is deprecated. To maintain\n",
      "the Fortran contiguity of a multidimensional Fortran\n",
      "array, use 'a.T.view(...).T' instead\n",
      "  obj_bytes_view = obj.view(self.np.uint8)\n",
      "C:\\Anaconda3\\lib\\site-packages\\sklearn\\externals\\joblib\\hashing.py:197: DeprecationWarning: Changing the shape of non-C contiguous array by\n",
      "descriptor assignment is deprecated. To maintain\n",
      "the Fortran contiguity of a multidimensional Fortran\n",
      "array, use 'a.T.view(...).T' instead\n",
      "  obj_bytes_view = obj.view(self.np.uint8)\n",
      "C:\\Anaconda3\\lib\\site-packages\\sklearn\\externals\\joblib\\hashing.py:197: DeprecationWarning: Changing the shape of non-C contiguous array by\n",
      "descriptor assignment is deprecated. To maintain\n",
      "the Fortran contiguity of a multidimensional Fortran\n",
      "array, use 'a.T.view(...).T' instead\n",
      "  obj_bytes_view = obj.view(self.np.uint8)\n"
     ]
    },
    {
     "data": {
      "text/plain": [
       "array([ 0.96254909,  0.96338802,  0.96328219,  0.96139247,  0.96212329,\n",
       "        0.9647377 ,  0.96253464,  0.96374171,  0.96351884,  0.96228093])"
      ]
     },
     "execution_count": 76,
     "metadata": {},
     "output_type": "execute_result"
    }
   ],
   "source": [
    "# K-fold cross validation\n",
    "\n",
    "k_fold = KFold(len(y), n_folds=10, shuffle=True, random_state=0)\n",
    "cross_val_score(gbr, X, y, cv=k_fold, n_jobs=3)"
   ]
  },
  {
   "cell_type": "markdown",
   "metadata": {},
   "source": [
    "Examining the distance of predictions from the actual, and looking for common characteristics among the parts with the biggest differences."
   ]
  },
  {
   "cell_type": "code",
   "execution_count": 77,
   "metadata": {
    "collapsed": false,
    "scrolled": true
   },
   "outputs": [
    {
     "data": {
      "text/plain": [
       "<matplotlib.axes._subplots.AxesSubplot at 0x1774e13a518>"
      ]
     },
     "execution_count": 77,
     "metadata": {},
     "output_type": "execute_result"
    },
    {
     "data": {
      "image/png": "[encoded data removed]",
      "text/plain": [
       "<matplotlib.figure.Figure at 0x1774e13a3c8>"
      ]
     },
     "metadata": {},
     "output_type": "display_data"
    }
   ],
   "source": [
    "# Plot of error over time\n",
    "y_pred = gbr.predict(X_test)\n",
    "\n",
    "cv_error = pd.DataFrame({'Actual': y_test, 'Predicted': y_pred, 'Error': (y_test - y_pred)})\n",
    "cv_error = pd.merge(df, cv_error, left_index=True, right_index=True)\n",
    "\n",
    "error_plot = cv_error[['Date', 'Error']]\n",
    "error_plot = error_plot.set_index('Date')\n",
    "error_plot.plot(figsize = (20,10))"
   ]
  },
  {
   "cell_type": "code",
   "execution_count": 78,
   "metadata": {
    "collapsed": false
   },
   "outputs": [
    {
     "data": {
      "text/html": [
       "<div>\n",
       "<table border=\"1\" class=\"dataframe\">\n",
       "  <thead>\n",
       "    <tr style=\"text-align: right;\">\n",
       "      <th></th>\n",
       "      <th>ID</th>\n",
       "      <th>Park_ID</th>\n",
       "      <th>Date</th>\n",
       "      <th>Direction_Of_Wind</th>\n",
       "      <th>Average_Breeze_Speed</th>\n",
       "      <th>Max_Breeze_Speed</th>\n",
       "      <th>Min_Breeze_Speed</th>\n",
       "      <th>Var1</th>\n",
       "      <th>Average_Atmospheric_Pressure</th>\n",
       "      <th>Max_Atmospheric_Pressure</th>\n",
       "      <th>...</th>\n",
       "      <th>Max_Weekly_Atmosphere</th>\n",
       "      <th>Min_Weekly_Atmosphere</th>\n",
       "      <th>Max_Weekly_Pollution</th>\n",
       "      <th>Min_Weekly_Pollution</th>\n",
       "      <th>Avg_Weekly_Moisture</th>\n",
       "      <th>Max_Weekly_Moisture</th>\n",
       "      <th>Min_Weekly_Moisture</th>\n",
       "      <th>Actual</th>\n",
       "      <th>Error</th>\n",
       "      <th>Predicted</th>\n",
       "    </tr>\n",
       "  </thead>\n",
       "  <tbody>\n",
       "    <tr>\n",
       "      <th>95947</th>\n",
       "      <td>3686224</td>\n",
       "      <td>24</td>\n",
       "      <td>2000-02-12</td>\n",
       "      <td>178.000000</td>\n",
       "      <td>16.720000</td>\n",
       "      <td>38.000000</td>\n",
       "      <td>0.000000</td>\n",
       "      <td>1.66</td>\n",
       "      <td>8300.000000</td>\n",
       "      <td>8317.000000</td>\n",
       "      <td>...</td>\n",
       "      <td>8339.769841</td>\n",
       "      <td>8302.928571</td>\n",
       "      <td>318.951724</td>\n",
       "      <td>153.875862</td>\n",
       "      <td>246.730159</td>\n",
       "      <td>284.904762</td>\n",
       "      <td>200.650794</td>\n",
       "      <td>528</td>\n",
       "      <td>-250.086489</td>\n",
       "      <td>778.086489</td>\n",
       "    </tr>\n",
       "    <tr>\n",
       "      <th>22191</th>\n",
       "      <td>3388817</td>\n",
       "      <td>17</td>\n",
       "      <td>1992-11-10</td>\n",
       "      <td>138.026667</td>\n",
       "      <td>78.072267</td>\n",
       "      <td>97.077333</td>\n",
       "      <td>58.773333</td>\n",
       "      <td>0.00</td>\n",
       "      <td>8005.033333</td>\n",
       "      <td>8043.626667</td>\n",
       "      <td>...</td>\n",
       "      <td>8285.809524</td>\n",
       "      <td>8245.206349</td>\n",
       "      <td>291.910448</td>\n",
       "      <td>153.671642</td>\n",
       "      <td>254.158163</td>\n",
       "      <td>278.739796</td>\n",
       "      <td>225.091837</td>\n",
       "      <td>1011</td>\n",
       "      <td>-235.739930</td>\n",
       "      <td>1246.739930</td>\n",
       "    </tr>\n",
       "    <tr>\n",
       "      <th>18749</th>\n",
       "      <td>3388419</td>\n",
       "      <td>19</td>\n",
       "      <td>1992-07-10</td>\n",
       "      <td>83.000000</td>\n",
       "      <td>31.160000</td>\n",
       "      <td>45.600000</td>\n",
       "      <td>15.200000</td>\n",
       "      <td>0.00</td>\n",
       "      <td>8341.000000</td>\n",
       "      <td>8355.000000</td>\n",
       "      <td>...</td>\n",
       "      <td>8341.722222</td>\n",
       "      <td>8287.119048</td>\n",
       "      <td>324.059701</td>\n",
       "      <td>160.686567</td>\n",
       "      <td>240.734694</td>\n",
       "      <td>281.693878</td>\n",
       "      <td>186.000000</td>\n",
       "      <td>1035</td>\n",
       "      <td>-228.127802</td>\n",
       "      <td>1263.127802</td>\n",
       "    </tr>\n",
       "    <tr>\n",
       "      <th>18751</th>\n",
       "      <td>3388421</td>\n",
       "      <td>21</td>\n",
       "      <td>1992-07-10</td>\n",
       "      <td>81.000000</td>\n",
       "      <td>27.360000</td>\n",
       "      <td>45.600000</td>\n",
       "      <td>15.200000</td>\n",
       "      <td>0.00</td>\n",
       "      <td>8348.000000</td>\n",
       "      <td>8358.000000</td>\n",
       "      <td>...</td>\n",
       "      <td>8341.722222</td>\n",
       "      <td>8287.119048</td>\n",
       "      <td>324.059701</td>\n",
       "      <td>160.686567</td>\n",
       "      <td>240.734694</td>\n",
       "      <td>281.693878</td>\n",
       "      <td>186.000000</td>\n",
       "      <td>999</td>\n",
       "      <td>-227.231848</td>\n",
       "      <td>1226.231848</td>\n",
       "    </tr>\n",
       "    <tr>\n",
       "      <th>22247</th>\n",
       "      <td>3394917</td>\n",
       "      <td>17</td>\n",
       "      <td>1992-11-12</td>\n",
       "      <td>138.166667</td>\n",
       "      <td>78.330667</td>\n",
       "      <td>97.330667</td>\n",
       "      <td>59.026667</td>\n",
       "      <td>0.00</td>\n",
       "      <td>8005.033333</td>\n",
       "      <td>8043.626667</td>\n",
       "      <td>...</td>\n",
       "      <td>8285.809524</td>\n",
       "      <td>8245.206349</td>\n",
       "      <td>291.910448</td>\n",
       "      <td>153.671642</td>\n",
       "      <td>254.158163</td>\n",
       "      <td>278.739796</td>\n",
       "      <td>225.091837</td>\n",
       "      <td>652</td>\n",
       "      <td>-222.944937</td>\n",
       "      <td>874.944937</td>\n",
       "    </tr>\n",
       "  </tbody>\n",
       "</table>\n",
       "<p>5 rows × 50 columns</p>\n",
       "</div>"
      ],
      "text/plain": [
       "            ID  Park_ID       Date  Direction_Of_Wind  Average_Breeze_Speed  \\\n",
       "95947  3686224       24 2000-02-12         178.000000             16.720000   \n",
       "22191  3388817       17 1992-11-10         138.026667             78.072267   \n",
       "18749  3388419       19 1992-07-10          83.000000             31.160000   \n",
       "18751  3388421       21 1992-07-10          81.000000             27.360000   \n",
       "22247  3394917       17 1992-11-12         138.166667             78.330667   \n",
       "\n",
       "       Max_Breeze_Speed  Min_Breeze_Speed  Var1  Average_Atmospheric_Pressure  \\\n",
       "95947         38.000000          0.000000  1.66                   8300.000000   \n",
       "22191         97.077333         58.773333  0.00                   8005.033333   \n",
       "18749         45.600000         15.200000  0.00                   8341.000000   \n",
       "18751         45.600000         15.200000  0.00                   8348.000000   \n",
       "22247         97.330667         59.026667  0.00                   8005.033333   \n",
       "\n",
       "       Max_Atmospheric_Pressure     ...       Max_Weekly_Atmosphere  \\\n",
       "95947               8317.000000     ...                 8339.769841   \n",
       "22191               8043.626667     ...                 8285.809524   \n",
       "18749               8355.000000     ...                 8341.722222   \n",
       "18751               8358.000000     ...                 8341.722222   \n",
       "22247               8043.626667     ...                 8285.809524   \n",
       "\n",
       "       Min_Weekly_Atmosphere  Max_Weekly_Pollution  Min_Weekly_Pollution  \\\n",
       "95947            8302.928571            318.951724            153.875862   \n",
       "22191            8245.206349            291.910448            153.671642   \n",
       "18749            8287.119048            324.059701            160.686567   \n",
       "18751            8287.119048            324.059701            160.686567   \n",
       "22247            8245.206349            291.910448            153.671642   \n",
       "\n",
       "       Avg_Weekly_Moisture  Max_Weekly_Moisture  Min_Weekly_Moisture  Actual  \\\n",
       "95947           246.730159           284.904762           200.650794     528   \n",
       "22191           254.158163           278.739796           225.091837    1011   \n",
       "18749           240.734694           281.693878           186.000000    1035   \n",
       "18751           240.734694           281.693878           186.000000     999   \n",
       "22247           254.158163           278.739796           225.091837     652   \n",
       "\n",
       "            Error    Predicted  \n",
       "95947 -250.086489   778.086489  \n",
       "22191 -235.739930  1246.739930  \n",
       "18749 -228.127802  1263.127802  \n",
       "18751 -227.231848  1226.231848  \n",
       "22247 -222.944937   874.944937  \n",
       "\n",
       "[5 rows x 50 columns]"
      ]
     },
     "execution_count": 78,
     "metadata": {},
     "output_type": "execute_result"
    }
   ],
   "source": [
    "cv_error.sort_values('Error').head()"
   ]
  },
  {
   "cell_type": "code",
   "execution_count": 79,
   "metadata": {
    "collapsed": false
   },
   "outputs": [
    {
     "data": {
      "text/html": [
       "<div>\n",
       "<table border=\"1\" class=\"dataframe\">\n",
       "  <thead>\n",
       "    <tr style=\"text-align: right;\">\n",
       "      <th></th>\n",
       "      <th>ID</th>\n",
       "      <th>Park_ID</th>\n",
       "      <th>Date</th>\n",
       "      <th>Direction_Of_Wind</th>\n",
       "      <th>Average_Breeze_Speed</th>\n",
       "      <th>Max_Breeze_Speed</th>\n",
       "      <th>Min_Breeze_Speed</th>\n",
       "      <th>Var1</th>\n",
       "      <th>Average_Atmospheric_Pressure</th>\n",
       "      <th>Max_Atmospheric_Pressure</th>\n",
       "      <th>...</th>\n",
       "      <th>Max_Weekly_Atmosphere</th>\n",
       "      <th>Min_Weekly_Atmosphere</th>\n",
       "      <th>Max_Weekly_Pollution</th>\n",
       "      <th>Min_Weekly_Pollution</th>\n",
       "      <th>Avg_Weekly_Moisture</th>\n",
       "      <th>Max_Weekly_Moisture</th>\n",
       "      <th>Min_Weekly_Moisture</th>\n",
       "      <th>Actual</th>\n",
       "      <th>Error</th>\n",
       "      <th>Predicted</th>\n",
       "    </tr>\n",
       "  </thead>\n",
       "  <tbody>\n",
       "    <tr>\n",
       "      <th>69981</th>\n",
       "      <td>3562439</td>\n",
       "      <td>39</td>\n",
       "      <td>1997-07-13</td>\n",
       "      <td>204.000000</td>\n",
       "      <td>25.080000</td>\n",
       "      <td>45.600000</td>\n",
       "      <td>0.000000</td>\n",
       "      <td>0.000000</td>\n",
       "      <td>8000.260000</td>\n",
       "      <td>8042.993333</td>\n",
       "      <td>...</td>\n",
       "      <td>8361.619048</td>\n",
       "      <td>8293.492063</td>\n",
       "      <td>315.517730</td>\n",
       "      <td>194.496454</td>\n",
       "      <td>250.790816</td>\n",
       "      <td>287.770408</td>\n",
       "      <td>208.040816</td>\n",
       "      <td>1703</td>\n",
       "      <td>182.894997</td>\n",
       "      <td>1520.105003</td>\n",
       "    </tr>\n",
       "    <tr>\n",
       "      <th>3429</th>\n",
       "      <td>3335939</td>\n",
       "      <td>39</td>\n",
       "      <td>1991-01-05</td>\n",
       "      <td>20.000000</td>\n",
       "      <td>36.480000</td>\n",
       "      <td>53.200000</td>\n",
       "      <td>22.800000</td>\n",
       "      <td>0.000000</td>\n",
       "      <td>8000.400000</td>\n",
       "      <td>8042.313333</td>\n",
       "      <td>...</td>\n",
       "      <td>8362.590278</td>\n",
       "      <td>8287.125000</td>\n",
       "      <td>299.838926</td>\n",
       "      <td>111.087248</td>\n",
       "      <td>265.745455</td>\n",
       "      <td>290.850000</td>\n",
       "      <td>225.940909</td>\n",
       "      <td>1323</td>\n",
       "      <td>184.154605</td>\n",
       "      <td>1138.845395</td>\n",
       "    </tr>\n",
       "    <tr>\n",
       "      <th>26230</th>\n",
       "      <td>3403224</td>\n",
       "      <td>24</td>\n",
       "      <td>1993-04-03</td>\n",
       "      <td>159.000000</td>\n",
       "      <td>26.600000</td>\n",
       "      <td>38.000000</td>\n",
       "      <td>15.200000</td>\n",
       "      <td>0.000000</td>\n",
       "      <td>8341.000000</td>\n",
       "      <td>8358.000000</td>\n",
       "      <td>...</td>\n",
       "      <td>8381.301587</td>\n",
       "      <td>8309.087302</td>\n",
       "      <td>303.657143</td>\n",
       "      <td>147.142857</td>\n",
       "      <td>252.214286</td>\n",
       "      <td>287.311224</td>\n",
       "      <td>201.443878</td>\n",
       "      <td>1230</td>\n",
       "      <td>195.827119</td>\n",
       "      <td>1034.172881</td>\n",
       "    </tr>\n",
       "    <tr>\n",
       "      <th>11167</th>\n",
       "      <td>3352417</td>\n",
       "      <td>17</td>\n",
       "      <td>1991-10-13</td>\n",
       "      <td>140.313333</td>\n",
       "      <td>78.072267</td>\n",
       "      <td>97.026667</td>\n",
       "      <td>59.077333</td>\n",
       "      <td>0.000000</td>\n",
       "      <td>8005.033333</td>\n",
       "      <td>8044.040000</td>\n",
       "      <td>...</td>\n",
       "      <td>8408.166667</td>\n",
       "      <td>8359.476190</td>\n",
       "      <td>309.082707</td>\n",
       "      <td>173.593985</td>\n",
       "      <td>252.872449</td>\n",
       "      <td>284.448980</td>\n",
       "      <td>204.811224</td>\n",
       "      <td>1536</td>\n",
       "      <td>203.969139</td>\n",
       "      <td>1332.030861</td>\n",
       "    </tr>\n",
       "    <tr>\n",
       "      <th>48807</th>\n",
       "      <td>3486833</td>\n",
       "      <td>33</td>\n",
       "      <td>1995-06-18</td>\n",
       "      <td>67.000000</td>\n",
       "      <td>21.280000</td>\n",
       "      <td>38.000000</td>\n",
       "      <td>0.000000</td>\n",
       "      <td>192.631933</td>\n",
       "      <td>8420.000000</td>\n",
       "      <td>8441.000000</td>\n",
       "      <td>...</td>\n",
       "      <td>8362.158730</td>\n",
       "      <td>8313.317460</td>\n",
       "      <td>317.285714</td>\n",
       "      <td>182.400000</td>\n",
       "      <td>232.301020</td>\n",
       "      <td>282.260204</td>\n",
       "      <td>176.326531</td>\n",
       "      <td>1663</td>\n",
       "      <td>206.940381</td>\n",
       "      <td>1456.059619</td>\n",
       "    </tr>\n",
       "  </tbody>\n",
       "</table>\n",
       "<p>5 rows × 50 columns</p>\n",
       "</div>"
      ],
      "text/plain": [
       "            ID  Park_ID       Date  Direction_Of_Wind  Average_Breeze_Speed  \\\n",
       "69981  3562439       39 1997-07-13         204.000000             25.080000   \n",
       "3429   3335939       39 1991-01-05          20.000000             36.480000   \n",
       "26230  3403224       24 1993-04-03         159.000000             26.600000   \n",
       "11167  3352417       17 1991-10-13         140.313333             78.072267   \n",
       "48807  3486833       33 1995-06-18          67.000000             21.280000   \n",
       "\n",
       "       Max_Breeze_Speed  Min_Breeze_Speed        Var1  \\\n",
       "69981         45.600000          0.000000    0.000000   \n",
       "3429          53.200000         22.800000    0.000000   \n",
       "26230         38.000000         15.200000    0.000000   \n",
       "11167         97.026667         59.077333    0.000000   \n",
       "48807         38.000000          0.000000  192.631933   \n",
       "\n",
       "       Average_Atmospheric_Pressure  Max_Atmospheric_Pressure     ...       \\\n",
       "69981                   8000.260000               8042.993333     ...        \n",
       "3429                    8000.400000               8042.313333     ...        \n",
       "26230                   8341.000000               8358.000000     ...        \n",
       "11167                   8005.033333               8044.040000     ...        \n",
       "48807                   8420.000000               8441.000000     ...        \n",
       "\n",
       "       Max_Weekly_Atmosphere  Min_Weekly_Atmosphere  Max_Weekly_Pollution  \\\n",
       "69981            8361.619048            8293.492063            315.517730   \n",
       "3429             8362.590278            8287.125000            299.838926   \n",
       "26230            8381.301587            8309.087302            303.657143   \n",
       "11167            8408.166667            8359.476190            309.082707   \n",
       "48807            8362.158730            8313.317460            317.285714   \n",
       "\n",
       "       Min_Weekly_Pollution  Avg_Weekly_Moisture  Max_Weekly_Moisture  \\\n",
       "69981            194.496454           250.790816           287.770408   \n",
       "3429             111.087248           265.745455           290.850000   \n",
       "26230            147.142857           252.214286           287.311224   \n",
       "11167            173.593985           252.872449           284.448980   \n",
       "48807            182.400000           232.301020           282.260204   \n",
       "\n",
       "       Min_Weekly_Moisture  Actual       Error    Predicted  \n",
       "69981           208.040816    1703  182.894997  1520.105003  \n",
       "3429            225.940909    1323  184.154605  1138.845395  \n",
       "26230           201.443878    1230  195.827119  1034.172881  \n",
       "11167           204.811224    1536  203.969139  1332.030861  \n",
       "48807           176.326531    1663  206.940381  1456.059619  \n",
       "\n",
       "[5 rows x 50 columns]"
      ]
     },
     "execution_count": 79,
     "metadata": {},
     "output_type": "execute_result"
    }
   ],
   "source": [
    "cv_error.sort_values('Error').tail()"
   ]
  },
  {
   "cell_type": "markdown",
   "metadata": {},
   "source": [
    "Viewing variable importance - used to discard unnecessary variables"
   ]
  },
  {
   "cell_type": "code",
   "execution_count": 80,
   "metadata": {
    "collapsed": false
   },
   "outputs": [
    {
     "data": {
      "image/png": "[encoded data removed]",
      "text/plain": [
       "<matplotlib.figure.Figure at 0x1774f020cc0>"
      ]
     },
     "metadata": {},
     "output_type": "display_data"
    }
   ],
   "source": [
    "# Plotting feature importance\n",
    "\n",
    "gbr_labels = df_test.drop(['ID', 'Date', 'Year'\n",
    "             , 'Location_Type', 'Average_Atmospheric_Pressure', 'Max_Atmospheric_Pressure'\n",
    "             , 'Var1', 'Max_Ambient_Pollution', 'Min_Atmospheric_Pressure'\n",
    "             , 'Max_Breeze_Speed', 'Min_Breeze_Speed', 'Min_Ambient_Pollution'\n",
    "             , 'Max_Moisture_In_Park'\n",
    "                            ], axis = 1)\n",
    "\n",
    "feature_importance = gbr.feature_importances_\n",
    "\n",
    "feature_importance = 100.0 * (feature_importance / feature_importance.max())\n",
    "sorted_idx = np.argsort(feature_importance)\n",
    "pos = np.arange(sorted_idx.shape[0]) + .5\n",
    "\n",
    "plt.figure(figsize=(10,15))\n",
    "plt.barh(pos, feature_importance[sorted_idx], align='center')\n",
    "plt.yticks(pos, gbr_labels.columns[sorted_idx])\n",
    "plt.xlabel('Relative Importance')\n",
    "plt.title('Variable Importance')\n",
    "plt.show()"
   ]
  },
  {
   "cell_type": "markdown",
   "metadata": {
    "collapsed": true
   },
   "source": [
    "## Outputting Predictions"
   ]
  },
  {
   "cell_type": "code",
   "execution_count": 81,
   "metadata": {
    "collapsed": false
   },
   "outputs": [],
   "source": [
    "# Predicting for submission\n",
    "X_submission = df_test.drop(['ID', 'Date', 'Year'\n",
    "             , 'Location_Type', 'Average_Atmospheric_Pressure', 'Max_Atmospheric_Pressure'\n",
    "             , 'Var1', 'Max_Ambient_Pollution', 'Min_Atmospheric_Pressure'\n",
    "             , 'Max_Breeze_Speed', 'Min_Breeze_Speed', 'Min_Ambient_Pollution'\n",
    "             , 'Max_Moisture_In_Park'\n",
    "                            ], axis = 1)\n",
    "X_submission = imp.fit_transform(X_submission)\n",
    "y_submission = gbr.predict(X_submission)"
   ]
  },
  {
   "cell_type": "code",
   "execution_count": 82,
   "metadata": {
    "collapsed": true
   },
   "outputs": [],
   "source": [
    "# Exporting results\n",
    "df_submission = pd.DataFrame(y_submission, index = df_test['ID'])\n",
    "df_submission.columns = ['Footfall']\n",
    "df_submission.to_csv('test.csv')"
   ]
  },
  {
   "cell_type": "code",
   "execution_count": 83,
   "metadata": {
    "collapsed": true
   },
   "outputs": [],
   "source": [
    "# Saving train/test with imputed null values\n",
    "df.to_csv('train_imputed.csv')\n",
    "df_test.to_csv('test_imputed.csv')"
   ]
  }
 ],
 "metadata": {
  "anaconda-cloud": {},
  "kernelspec": {
   "display_name": "Python 3",
   "language": "python",
   "name": "python3"
  },
  "language_info": {
   "codemirror_mode": {
    "name": "ipython",
    "version": 3
   },
   "file_extension": ".py",
   "mimetype": "text/x-python",
   "name": "python",
   "nbconvert_exporter": "python",
   "pygments_lexer": "ipython3",
   "version": "3.5.1"
  }
 },
 "nbformat": 4,
 "nbformat_minor": 0
}
